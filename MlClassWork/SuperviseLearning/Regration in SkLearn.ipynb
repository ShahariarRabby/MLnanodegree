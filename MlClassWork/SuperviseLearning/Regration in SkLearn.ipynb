{
 "cells": [
  {
   "cell_type": "markdown",
   "metadata": {},
   "source": [
    "## Coding It Up\n"
   ]
  },
  {
   "cell_type": "markdown",
   "metadata": {},
   "source": [
    "http://scikit-learn.org/stable/modules/linear_model.html"
   ]
  },
  {
   "cell_type": "markdown",
   "metadata": {},
   "source": [
    "### Age/Net Worth Regression in sklearn\n"
   ]
  },
  {
   "cell_type": "code",
   "execution_count": 2,
   "metadata": {
    "collapsed": true
   },
   "outputs": [],
   "source": [
    "from sklearn import datasets, linear_model\n",
    "\n",
    "def studentReg(ages_train, net_worths_train):\n",
    "    ### import the sklearn regression module, create, and train your regression\n",
    "    ### name your regression reg\n",
    "    reg = linear_model.LinearRegression()\n",
    "\n",
    "    ### your code goes here!\n",
    "    reg.fit(111, net_worths_train)\n",
    "\n",
    "    \n",
    "    \n",
    "    return reg"
   ]
  },
  {
   "cell_type": "code",
   "execution_count": 3,
   "metadata": {
    "collapsed": false
   },
   "outputs": [
    {
     "name": "stdout",
     "output_type": "stream",
     "text": [
      "1  tarpor lal galer pic send koro\n",
      "2  tarpor lal galer pic send koro\n",
      "3  tarpor lal galer pic send koro\n",
      "4  tarpor lal galer pic send koro\n",
      "5  tarpor lal galer pic send koro\n",
      "6  tarpor lal galer pic send koro\n",
      "7  tarpor lal galer pic send koro\n",
      "8  tarpor lal galer pic send koro\n",
      "9  tarpor lal galer pic send koro\n",
      "10  tarpor lal galer pic send koro\n",
      "11  tarpor lal galer pic send koro\n",
      "12  tarpor lal galer pic send koro\n",
      "13  tarpor lal galer pic send koro\n",
      "14  tarpor lal galer pic send koro\n",
      "15  tarpor lal galer pic send koro\n",
      "16  tarpor lal galer pic send koro\n",
      "17  tarpor lal galer pic send koro\n",
      "18  tarpor lal galer pic send koro\n",
      "19  tarpor lal galer pic send koro\n",
      "20  tarpor lal galer pic send koro\n",
      "21  tarpor lal galer pic send koro\n",
      "22  tarpor lal galer pic send koro\n",
      "23  tarpor lal galer pic send koro\n",
      "24  tarpor lal galer pic send koro\n",
      "25  tarpor lal galer pic send koro\n",
      "26  tarpor lal galer pic send koro\n",
      "27  tarpor lal galer pic send koro\n",
      "28  tarpor lal galer pic send koro\n",
      "29  tarpor lal galer pic send koro\n",
      "30  tarpor lal galer pic send koro\n",
      "31  tarpor lal galer pic send koro\n",
      "32  tarpor lal galer pic send koro\n",
      "33  tarpor lal galer pic send koro\n",
      "34  tarpor lal galer pic send koro\n",
      "35  tarpor lal galer pic send koro\n",
      "36  tarpor lal galer pic send koro\n",
      "37  tarpor lal galer pic send koro\n",
      "38  tarpor lal galer pic send koro\n",
      "39  tarpor lal galer pic send koro\n",
      "40  tarpor lal galer pic send koro\n",
      "41  tarpor lal galer pic send koro\n",
      "42  tarpor lal galer pic send koro\n",
      "43  tarpor lal galer pic send koro\n",
      "44  tarpor lal galer pic send koro\n",
      "45  tarpor lal galer pic send koro\n",
      "46  tarpor lal galer pic send koro\n",
      "47  tarpor lal galer pic send koro\n",
      "48  tarpor lal galer pic send koro\n",
      "49  tarpor lal galer pic send koro\n",
      "50  tarpor lal galer pic send koro\n",
      "51  tarpor lal galer pic send koro\n",
      "52  tarpor lal galer pic send koro\n",
      "53  tarpor lal galer pic send koro\n",
      "54  tarpor lal galer pic send koro\n",
      "55  tarpor lal galer pic send koro\n",
      "56  tarpor lal galer pic send koro\n",
      "57  tarpor lal galer pic send koro\n",
      "58  tarpor lal galer pic send koro\n",
      "59  tarpor lal galer pic send koro\n",
      "60  tarpor lal galer pic send koro\n",
      "61  tarpor lal galer pic send koro\n",
      "62  tarpor lal galer pic send koro\n",
      "63  tarpor lal galer pic send koro\n",
      "64  tarpor lal galer pic send koro\n",
      "65  tarpor lal galer pic send koro\n",
      "66  tarpor lal galer pic send koro\n",
      "67  tarpor lal galer pic send koro\n",
      "68  tarpor lal galer pic send koro\n",
      "69  tarpor lal galer pic send koro\n",
      "70  tarpor lal galer pic send koro\n",
      "71  tarpor lal galer pic send koro\n",
      "72  tarpor lal galer pic send koro\n",
      "73  tarpor lal galer pic send koro\n",
      "74  tarpor lal galer pic send koro\n",
      "75  tarpor lal galer pic send koro\n",
      "76  tarpor lal galer pic send koro\n",
      "77  tarpor lal galer pic send koro\n",
      "78  tarpor lal galer pic send koro\n",
      "79  tarpor lal galer pic send koro\n",
      "80  tarpor lal galer pic send koro\n",
      "81  tarpor lal galer pic send koro\n",
      "82  tarpor lal galer pic send koro\n",
      "83  tarpor lal galer pic send koro\n",
      "84  tarpor lal galer pic send koro\n",
      "85  tarpor lal galer pic send koro\n",
      "86  tarpor lal galer pic send koro\n",
      "87  tarpor lal galer pic send koro\n",
      "88  tarpor lal galer pic send koro\n",
      "89  tarpor lal galer pic send koro\n",
      "90  tarpor lal galer pic send koro\n",
      "91  tarpor lal galer pic send koro\n",
      "92  tarpor lal galer pic send koro\n",
      "93  tarpor lal galer pic send koro\n",
      "94  tarpor lal galer pic send koro\n",
      "95  tarpor lal galer pic send koro\n",
      "96  tarpor lal galer pic send koro\n",
      "97  tarpor lal galer pic send koro\n",
      "98  tarpor lal galer pic send koro\n",
      "99  tarpor lal galer pic send koro\n",
      "100  tarpor lal galer pic send koro\n",
      "101  tarpor lal galer pic send koro\n",
      "102  tarpor lal galer pic send koro\n",
      "103  tarpor lal galer pic send koro\n",
      "104  tarpor lal galer pic send koro\n",
      "105  tarpor lal galer pic send koro\n",
      "106  tarpor lal galer pic send koro\n",
      "107  tarpor lal galer pic send koro\n",
      "108  tarpor lal galer pic send koro\n",
      "109  tarpor lal galer pic send koro\n",
      "110  tarpor lal galer pic send koro\n",
      "111  tarpor lal galer pic send koro\n",
      "112  tarpor lal galer pic send koro\n",
      "113  tarpor lal galer pic send koro\n",
      "114  tarpor lal galer pic send koro\n",
      "115  tarpor lal galer pic send koro\n",
      "116  tarpor lal galer pic send koro\n",
      "117  tarpor lal galer pic send koro\n",
      "118  tarpor lal galer pic send koro\n",
      "119  tarpor lal galer pic send koro\n",
      "120  tarpor lal galer pic send koro\n",
      "121  tarpor lal galer pic send koro\n",
      "122  tarpor lal galer pic send koro\n",
      "123  tarpor lal galer pic send koro\n",
      "124  tarpor lal galer pic send koro\n",
      "125  tarpor lal galer pic send koro\n",
      "126  tarpor lal galer pic send koro\n",
      "127  tarpor lal galer pic send koro\n",
      "128  tarpor lal galer pic send koro\n",
      "129  tarpor lal galer pic send koro\n",
      "130  tarpor lal galer pic send koro\n",
      "131  tarpor lal galer pic send koro\n",
      "132  tarpor lal galer pic send koro\n",
      "133  tarpor lal galer pic send koro\n",
      "134  tarpor lal galer pic send koro\n",
      "135  tarpor lal galer pic send koro\n",
      "136  tarpor lal galer pic send koro\n",
      "137  tarpor lal galer pic send koro\n",
      "138  tarpor lal galer pic send koro\n",
      "139  tarpor lal galer pic send koro\n",
      "140  tarpor lal galer pic send koro\n",
      "141  tarpor lal galer pic send koro\n",
      "142  tarpor lal galer pic send koro\n",
      "143  tarpor lal galer pic send koro\n",
      "144  tarpor lal galer pic send koro\n",
      "145  tarpor lal galer pic send koro\n",
      "146  tarpor lal galer pic send koro\n",
      "147  tarpor lal galer pic send koro\n",
      "148  tarpor lal galer pic send koro\n",
      "149  tarpor lal galer pic send koro\n",
      "150  tarpor lal galer pic send koro\n",
      "151  tarpor lal galer pic send koro\n",
      "152  tarpor lal galer pic send koro\n",
      "153  tarpor lal galer pic send koro\n",
      "154  tarpor lal galer pic send koro\n",
      "155  tarpor lal galer pic send koro\n",
      "156  tarpor lal galer pic send koro\n",
      "157  tarpor lal galer pic send koro\n",
      "158  tarpor lal galer pic send koro\n",
      "159  tarpor lal galer pic send koro\n",
      "160  tarpor lal galer pic send koro\n",
      "161  tarpor lal galer pic send koro\n",
      "162  tarpor lal galer pic send koro\n",
      "163  tarpor lal galer pic send koro\n",
      "164  tarpor lal galer pic send koro\n",
      "165  tarpor lal galer pic send koro\n",
      "166  tarpor lal galer pic send koro\n",
      "167  tarpor lal galer pic send koro\n",
      "168  tarpor lal galer pic send koro\n",
      "169  tarpor lal galer pic send koro\n",
      "170  tarpor lal galer pic send koro\n",
      "171  tarpor lal galer pic send koro\n",
      "172  tarpor lal galer pic send koro\n",
      "173  tarpor lal galer pic send koro\n",
      "174  tarpor lal galer pic send koro\n",
      "175  tarpor lal galer pic send koro\n",
      "176  tarpor lal galer pic send koro\n",
      "177  tarpor lal galer pic send koro\n",
      "178  tarpor lal galer pic send koro\n",
      "179  tarpor lal galer pic send koro\n",
      "180  tarpor lal galer pic send koro\n",
      "181  tarpor lal galer pic send koro\n",
      "182  tarpor lal galer pic send koro\n",
      "183  tarpor lal galer pic send koro\n",
      "184  tarpor lal galer pic send koro\n",
      "185  tarpor lal galer pic send koro\n",
      "186  tarpor lal galer pic send koro\n",
      "187  tarpor lal galer pic send koro\n",
      "188  tarpor lal galer pic send koro\n",
      "189  tarpor lal galer pic send koro\n",
      "190  tarpor lal galer pic send koro\n",
      "191  tarpor lal galer pic send koro\n",
      "192  tarpor lal galer pic send koro\n",
      "193  tarpor lal galer pic send koro\n",
      "194  tarpor lal galer pic send koro\n",
      "195  tarpor lal galer pic send koro\n",
      "196  tarpor lal galer pic send koro\n",
      "197  tarpor lal galer pic send koro\n",
      "198  tarpor lal galer pic send koro\n",
      "199  tarpor lal galer pic send koro\n",
      "200  tarpor lal galer pic send koro\n"
     ]
    }
   ],
   "source": [
    "for i in range(1,201):\n",
    "    print i,\" tarpor lal galer pic send koro\" "
   ]
  },
  {
   "cell_type": "code",
   "execution_count": 19,
   "metadata": {
    "collapsed": false
   },
   "outputs": [
    {
     "name": "stdout",
     "output_type": "stream",
     "text": [
      "Ans is : [[ 112.]]\n"
     ]
    }
   ],
   "source": [
    "from sklearn.linear_model import LinearRegression\n",
    "\n",
    "\n",
    "reg = LinearRegression()\n",
    "x_train = [[111],[112],[113],[114],[115]]\n",
    "y_train =  [[13],[24],[35],[46],[57]]\n",
    "reg.fit(x_train,y_train)\n",
    "x_test = 120\n",
    "print \"Ans is :\" ,reg.predict(x_test)\n"
   ]
  },
  {
   "cell_type": "code",
   "execution_count": 20,
   "metadata": {
    "collapsed": false
   },
   "outputs": [],
   "source": [
    "# from sklearn.cross_validation import train_test_split\n",
    "# from sklearn.metrics import accuracy_score\n",
    "\n",
    "# reg_t = LinearRegression()\n",
    "\n",
    "# x_train,x_test,y_train,y_test = train_test_split(x,y)\n",
    "# reg.fit(x_train,y_train)\n",
    "# nb_score = accuracy_score(y_test, reg1.predict(x_test))*100\n",
    "\n",
    "# print \"accuracy_score :\" ,nb_score,\"%\"\n"
   ]
  },
  {
   "cell_type": "code",
   "execution_count": 21,
   "metadata": {
    "collapsed": true
   },
   "outputs": [],
   "source": [
    "import matplotlib.pyplot as plt\n",
    "%matplotlib inline"
   ]
  },
  {
   "cell_type": "code",
   "execution_count": 22,
   "metadata": {
    "collapsed": false
   },
   "outputs": [
    {
     "name": "stdout",
     "output_type": "stream",
     "text": [
      "[<matplotlib.lines.Line2D object at 0x000000000AEF7828>]\n"
     ]
    },
    {
     "data": {
      "image/png": "[encoded data removed]",
      "text/plain": [
       "<matplotlib.figure.Figure at 0xa83f8d0>"
      ]
     },
     "metadata": {},
     "output_type": "display_data"
    }
   ],
   "source": [
    "print plt.plot(x_train,y_train)"
   ]
  },
  {
   "cell_type": "code",
   "execution_count": 23,
   "metadata": {
    "collapsed": false
   },
   "outputs": [
    {
     "data": {
      "text/plain": [
       "array([[ 11.]])"
      ]
     },
     "execution_count": 23,
     "metadata": {},
     "output_type": "execute_result"
    }
   ],
   "source": [
    "reg.coef_"
   ]
  },
  {
   "cell_type": "code",
   "execution_count": 24,
   "metadata": {
    "collapsed": false
   },
   "outputs": [
    {
     "data": {
      "text/plain": [
       "array([-1208.])"
      ]
     },
     "execution_count": 24,
     "metadata": {},
     "output_type": "execute_result"
    }
   ],
   "source": [
    "reg.intercept_"
   ]
  },
  {
   "cell_type": "code",
   "execution_count": 25,
   "metadata": {
    "collapsed": false
   },
   "outputs": [],
   "source": [
    "from sklearn.cross_validation import cross_val_score\n",
    "score = cross_val_score(reg,x_train,y_train)"
   ]
  },
  {
   "cell_type": "code",
   "execution_count": 26,
   "metadata": {
    "collapsed": false
   },
   "outputs": [
    {
     "data": {
      "text/plain": [
       "array([ 1.,  1.,  1.])"
      ]
     },
     "execution_count": 26,
     "metadata": {},
     "output_type": "execute_result"
    }
   ],
   "source": [
    "score"
   ]
  },
  {
   "cell_type": "code",
   "execution_count": null,
   "metadata": {
    "collapsed": true
   },
   "outputs": [],
   "source": []
  }
 ],
 "metadata": {
  "kernelspec": {
   "display_name": "Python 2",
   "language": "python",
   "name": "python2"
  },
  "language_info": {
   "codemirror_mode": {
    "name": "ipython",
    "version": 2
   },
   "file_extension": ".py",
   "mimetype": "text/x-python",
   "name": "python",
   "nbconvert_exporter": "python",
   "pygments_lexer": "ipython2",
   "version": "2.7.13"
  }
 },
 "nbformat": 4,
 "nbformat_minor": 2
}
