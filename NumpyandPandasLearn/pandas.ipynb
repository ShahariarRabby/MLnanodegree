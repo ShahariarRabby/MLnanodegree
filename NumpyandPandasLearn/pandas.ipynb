{
 "cells": [
  {
   "cell_type": "markdown",
   "metadata": {},
   "source": [
    "## Basic Udemy"
   ]
  },
  {
   "cell_type": "code",
   "execution_count": 131,
   "metadata": {
    "collapsed": true
   },
   "outputs": [],
   "source": [
    "import numpy as np\n",
    "import pandas as pd"
   ]
  },
  {
   "cell_type": "code",
   "execution_count": 132,
   "metadata": {
    "collapsed": true
   },
   "outputs": [],
   "source": [
    "from pandas import Series, DataFrame"
   ]
  },
  {
   "cell_type": "code",
   "execution_count": 133,
   "metadata": {
    "collapsed": true
   },
   "outputs": [],
   "source": [
    "obj = Series([3,4,5,6])"
   ]
  },
  {
   "cell_type": "code",
   "execution_count": 134,
   "metadata": {
    "collapsed": false
   },
   "outputs": [
    {
     "data": {
      "text/plain": [
       "0    3\n",
       "1    4\n",
       "2    5\n",
       "3    6\n",
       "dtype: int64"
      ]
     },
     "execution_count": 134,
     "metadata": {},
     "output_type": "execute_result"
    }
   ],
   "source": [
    "obj"
   ]
  },
  {
   "cell_type": "code",
   "execution_count": 135,
   "metadata": {
    "collapsed": false
   },
   "outputs": [
    {
     "data": {
      "text/plain": [
       "array([3, 4, 5, 6], dtype=int64)"
      ]
     },
     "execution_count": 135,
     "metadata": {},
     "output_type": "execute_result"
    }
   ],
   "source": [
    "obj.values"
   ]
  },
  {
   "cell_type": "code",
   "execution_count": 136,
   "metadata": {
    "collapsed": false
   },
   "outputs": [
    {
     "data": {
      "text/plain": [
       "RangeIndex(start=0, stop=4, step=1)"
      ]
     },
     "execution_count": 136,
     "metadata": {},
     "output_type": "execute_result"
    }
   ],
   "source": [
    "obj.index"
   ]
  },
  {
   "cell_type": "code",
   "execution_count": 137,
   "metadata": {
    "collapsed": false
   },
   "outputs": [
    {
     "data": {
      "text/plain": [
       "USSER      8700000\n",
       "Germany    4300000\n",
       "China      3000000\n",
       "Japan      2400000\n",
       "USA        4000000\n",
       "dtype: int64"
      ]
     },
     "execution_count": 137,
     "metadata": {},
     "output_type": "execute_result"
    }
   ],
   "source": [
    "ww2_cas = Series([8700000, 4300000, 3000000, 2400000, 4000000], index = ['USSER', 'Germany','China','Japan','USA'])\n",
    "ww2_cas"
   ]
  },
  {
   "cell_type": "code",
   "execution_count": 138,
   "metadata": {
    "collapsed": false
   },
   "outputs": [
    {
     "data": {
      "text/plain": [
       "4000000"
      ]
     },
     "execution_count": 138,
     "metadata": {},
     "output_type": "execute_result"
    }
   ],
   "source": [
    "ww2_cas['USA']"
   ]
  },
  {
   "cell_type": "code",
   "execution_count": 139,
   "metadata": {
    "collapsed": false
   },
   "outputs": [
    {
     "data": {
      "text/plain": [
       "USSER      8700000\n",
       "Germany    4300000\n",
       "dtype: int64"
      ]
     },
     "execution_count": 139,
     "metadata": {},
     "output_type": "execute_result"
    }
   ],
   "source": [
    "ww2_cas[ww2_cas > 4000000]"
   ]
  },
  {
   "cell_type": "code",
   "execution_count": 140,
   "metadata": {
    "collapsed": false
   },
   "outputs": [
    {
     "data": {
      "text/plain": [
       "True"
      ]
     },
     "execution_count": 140,
     "metadata": {},
     "output_type": "execute_result"
    }
   ],
   "source": [
    "'USA' in ww2_cas"
   ]
  },
  {
   "cell_type": "code",
   "execution_count": 141,
   "metadata": {
    "collapsed": true
   },
   "outputs": [],
   "source": [
    "ww2_dict = ww2_cas.to_dict()"
   ]
  },
  {
   "cell_type": "code",
   "execution_count": 142,
   "metadata": {
    "collapsed": false
   },
   "outputs": [
    {
     "data": {
      "text/plain": [
       "{'China': 3000000,\n",
       " 'Germany': 4300000,\n",
       " 'Japan': 2400000,\n",
       " 'USA': 4000000,\n",
       " 'USSER': 8700000}"
      ]
     },
     "execution_count": 142,
     "metadata": {},
     "output_type": "execute_result"
    }
   ],
   "source": [
    "ww2_dict"
   ]
  },
  {
   "cell_type": "code",
   "execution_count": 143,
   "metadata": {
    "collapsed": false
   },
   "outputs": [
    {
     "data": {
      "text/plain": [
       "China      3000000\n",
       "Germany    4300000\n",
       "Japan      2400000\n",
       "USA        4000000\n",
       "USSER      8700000\n",
       "dtype: int64"
      ]
     },
     "execution_count": 143,
     "metadata": {},
     "output_type": "execute_result"
    }
   ],
   "source": [
    "ww2_series = Series(ww2_dict)\n",
    "ww2_series\n"
   ]
  },
  {
   "cell_type": "code",
   "execution_count": 144,
   "metadata": {
    "collapsed": false
   },
   "outputs": [
    {
     "data": {
      "text/plain": [
       "0    8700000\n",
       "1    4300000\n",
       "2    3000000\n",
       "3    2400000\n",
       "4    4000000\n",
       "dtype: int64"
      ]
     },
     "execution_count": 144,
     "metadata": {},
     "output_type": "execute_result"
    }
   ],
   "source": [
    "ww2_cas2 = Series([8700000, 4300000, 3000000, 2400000, 4000000])\n",
    "ww2_cas2"
   ]
  },
  {
   "cell_type": "code",
   "execution_count": 145,
   "metadata": {
    "collapsed": true
   },
   "outputs": [],
   "source": [
    "countries = ['USSER', 'Germany','China','Japan','USA', 'Bangladesh']"
   ]
  },
  {
   "cell_type": "code",
   "execution_count": 146,
   "metadata": {
    "collapsed": true
   },
   "outputs": [],
   "source": [
    "obj2 = Series(ww2_cas2,index =countries )"
   ]
  },
  {
   "cell_type": "code",
   "execution_count": 147,
   "metadata": {
    "collapsed": false
   },
   "outputs": [
    {
     "data": {
      "text/plain": [
       "USSER        NaN\n",
       "Germany      NaN\n",
       "China        NaN\n",
       "Japan        NaN\n",
       "USA          NaN\n",
       "Bangladesh   NaN\n",
       "dtype: float64"
      ]
     },
     "execution_count": 147,
     "metadata": {},
     "output_type": "execute_result"
    }
   ],
   "source": [
    "obj2"
   ]
  },
  {
   "cell_type": "code",
   "execution_count": 148,
   "metadata": {
    "collapsed": false
   },
   "outputs": [],
   "source": [
    "obj2 = Series(ww2_dict,index =countries )"
   ]
  },
  {
   "cell_type": "code",
   "execution_count": 149,
   "metadata": {
    "collapsed": false
   },
   "outputs": [
    {
     "data": {
      "text/plain": [
       "{'China': 3000000,\n",
       " 'Germany': 4300000,\n",
       " 'Japan': 2400000,\n",
       " 'USA': 4000000,\n",
       " 'USSER': 8700000}"
      ]
     },
     "execution_count": 149,
     "metadata": {},
     "output_type": "execute_result"
    }
   ],
   "source": [
    "ww2_dict"
   ]
  },
  {
   "cell_type": "code",
   "execution_count": 150,
   "metadata": {
    "collapsed": true
   },
   "outputs": [],
   "source": [
    "obj2 = Series(ww2_dict,index =countries )"
   ]
  },
  {
   "cell_type": "code",
   "execution_count": 151,
   "metadata": {
    "collapsed": false
   },
   "outputs": [
    {
     "data": {
      "text/plain": [
       "USSER         8700000.0\n",
       "Germany       4300000.0\n",
       "China         3000000.0\n",
       "Japan         2400000.0\n",
       "USA           4000000.0\n",
       "Bangladesh          NaN\n",
       "dtype: float64"
      ]
     },
     "execution_count": 151,
     "metadata": {},
     "output_type": "execute_result"
    }
   ],
   "source": [
    "obj2"
   ]
  },
  {
   "cell_type": "code",
   "execution_count": 152,
   "metadata": {
    "collapsed": false
   },
   "outputs": [
    {
     "data": {
      "text/plain": [
       "USSER         False\n",
       "Germany       False\n",
       "China         False\n",
       "Japan         False\n",
       "USA           False\n",
       "Bangladesh     True\n",
       "dtype: bool"
      ]
     },
     "execution_count": 152,
     "metadata": {},
     "output_type": "execute_result"
    }
   ],
   "source": [
    "pd.isnull(obj2)"
   ]
  },
  {
   "cell_type": "code",
   "execution_count": 153,
   "metadata": {
    "collapsed": false
   },
   "outputs": [
    {
     "data": {
      "text/plain": [
       "USSER          True\n",
       "Germany        True\n",
       "China          True\n",
       "Japan          True\n",
       "USA            True\n",
       "Bangladesh    False\n",
       "dtype: bool"
      ]
     },
     "execution_count": 153,
     "metadata": {},
     "output_type": "execute_result"
    }
   ],
   "source": [
    "pd.notnull(obj2)"
   ]
  },
  {
   "cell_type": "code",
   "execution_count": 154,
   "metadata": {
    "collapsed": false
   },
   "outputs": [
    {
     "data": {
      "text/plain": [
       "Bangladesh           NaN\n",
       "China          6000000.0\n",
       "Germany        8600000.0\n",
       "Japan          4800000.0\n",
       "USA            8000000.0\n",
       "USSER         17400000.0\n",
       "dtype: float64"
      ]
     },
     "execution_count": 154,
     "metadata": {},
     "output_type": "execute_result"
    }
   ],
   "source": [
    "ww2_series + obj2"
   ]
  },
  {
   "cell_type": "code",
   "execution_count": 155,
   "metadata": {
    "collapsed": false
   },
   "outputs": [
    {
     "data": {
      "text/plain": [
       "USSER         8700000.0\n",
       "Germany       4300000.0\n",
       "China         3000000.0\n",
       "Japan         2400000.0\n",
       "USA           4000000.0\n",
       "Bangladesh          NaN\n",
       "Name: Name is here, dtype: float64"
      ]
     },
     "execution_count": 155,
     "metadata": {},
     "output_type": "execute_result"
    }
   ],
   "source": [
    "obj2.name = \"Name is here\"\n",
    "obj2\n"
   ]
  },
  {
   "cell_type": "code",
   "execution_count": 156,
   "metadata": {
    "collapsed": false
   },
   "outputs": [
    {
     "data": {
      "text/plain": [
       "Index Name\n",
       "USSER         8700000.0\n",
       "Germany       4300000.0\n",
       "China         3000000.0\n",
       "Japan         2400000.0\n",
       "USA           4000000.0\n",
       "Bangladesh          NaN\n",
       "Name: Name is here, dtype: float64"
      ]
     },
     "execution_count": 156,
     "metadata": {},
     "output_type": "execute_result"
    }
   ],
   "source": [
    "obj2.index.name = \"Index Name\"\n",
    "obj2\n"
   ]
  },
  {
   "cell_type": "markdown",
   "metadata": {},
   "source": [
    "## Datafram"
   ]
  },
  {
   "cell_type": "code",
   "execution_count": 157,
   "metadata": {
    "collapsed": false
   },
   "outputs": [
    {
     "data": {
      "text/plain": [
       "True"
      ]
     },
     "execution_count": 157,
     "metadata": {},
     "output_type": "execute_result"
    }
   ],
   "source": [
    "import webbrowser\n",
    "website = 'https://en.wikipedia.org/wiki/NFL_win%E2%80%93loss_records'\n",
    "\n",
    "webbrowser.open(website)"
   ]
  },
  {
   "cell_type": "code",
   "execution_count": 158,
   "metadata": {
    "collapsed": true
   },
   "outputs": [],
   "source": [
    "nfl_fram = pd.read_clipboard()"
   ]
  },
  {
   "cell_type": "code",
   "execution_count": 159,
   "metadata": {
    "collapsed": false
   },
   "outputs": [
    {
     "data": {
      "text/html": [
       "<div>\n",
       "<table border=\"1\" class=\"dataframe\">\n",
       "  <thead>\n",
       "    <tr style=\"text-align: right;\">\n",
       "      <th></th>\n",
       "      <th>Matrix</th>\n",
       "      <th>Multiplication</th>\n",
       "      <th>and</th>\n",
       "      <th>Numpy</th>\n",
       "      <th>Dot</th>\n",
       "    </tr>\n",
       "  </thead>\n",
       "  <tbody>\n",
       "  </tbody>\n",
       "</table>\n",
       "</div>"
      ],
      "text/plain": [
       "Empty DataFrame\n",
       "Columns: [Matrix, Multiplication, and, Numpy, Dot]\n",
       "Index: []"
      ]
     },
     "execution_count": 159,
     "metadata": {},
     "output_type": "execute_result"
    }
   ],
   "source": [
    "nfl_fram"
   ]
  },
  {
   "cell_type": "code",
   "execution_count": 160,
   "metadata": {
    "collapsed": false
   },
   "outputs": [
    {
     "data": {
      "text/html": [
       "<div>\n",
       "<table border=\"1\" class=\"dataframe\">\n",
       "  <thead>\n",
       "    <tr style=\"text-align: right;\">\n",
       "      <th></th>\n",
       "      <th>Team</th>\n",
       "      <th>NFL</th>\n",
       "      <th>Season</th>\n",
       "    </tr>\n",
       "  </thead>\n",
       "  <tbody>\n",
       "  </tbody>\n",
       "</table>\n",
       "</div>"
      ],
      "text/plain": [
       "Empty DataFrame\n",
       "Columns: [Team, NFL, Season]\n",
       "Index: []"
      ]
     },
     "execution_count": 160,
     "metadata": {},
     "output_type": "execute_result"
    }
   ],
   "source": [
    "data = DataFrame(nfl_fram, columns=['Team', 'NFL', 'Season'])\n",
    "data"
   ]
  },
  {
   "cell_type": "markdown",
   "metadata": {},
   "source": [
    "## Reindex object"
   ]
  },
  {
   "cell_type": "code",
   "execution_count": 161,
   "metadata": {
    "collapsed": false
   },
   "outputs": [
    {
     "data": {
      "text/html": [
       "<div>\n",
       "<table border=\"1\" class=\"dataframe\">\n",
       "  <thead>\n",
       "    <tr style=\"text-align: right;\">\n",
       "      <th></th>\n",
       "      <th>Team</th>\n",
       "      <th>Season</th>\n",
       "      <th>Won</th>\n",
       "    </tr>\n",
       "  </thead>\n",
       "  <tbody>\n",
       "  </tbody>\n",
       "</table>\n",
       "</div>"
      ],
      "text/plain": [
       "Empty DataFrame\n",
       "Columns: [Team, Season, Won]\n",
       "Index: []"
      ]
     },
     "execution_count": 161,
     "metadata": {},
     "output_type": "execute_result"
    }
   ],
   "source": [
    "data.reindex(columns=['Team','Season','Won'])"
   ]
  },
  {
   "cell_type": "markdown",
   "metadata": {},
   "source": [
    "# Udacity Pandas Play"
   ]
  },
  {
   "cell_type": "code",
   "execution_count": 162,
   "metadata": {
    "collapsed": false
   },
   "outputs": [
    {
     "name": "stdout",
     "output_type": "stream",
     "text": [
      "0           Dave\n",
      "1      Cheng-Han\n",
      "2        Udacity\n",
      "3             42\n",
      "4    -1789710578\n",
      "dtype: object\n"
     ]
    }
   ],
   "source": [
    "if True:\n",
    "    series = pd.Series(['Dave', 'Cheng-Han', 'Udacity', 42, -1789710578])\n",
    "    print series\n"
   ]
  },
  {
   "cell_type": "markdown",
   "metadata": {},
   "source": [
    "'''\n",
    "You can also manually assign indices to the items in the Series when\n",
    "creating the series\n",
    "'''"
   ]
  },
  {
   "cell_type": "code",
   "execution_count": 163,
   "metadata": {
    "collapsed": false
   },
   "outputs": [
    {
     "name": "stdout",
     "output_type": "stream",
     "text": [
      "Instructor                 Dave\n",
      "Curriculum Manager    Cheng-Han\n",
      "Course Number               359\n",
      "Power Level                9001\n",
      "dtype: object\n"
     ]
    }
   ],
   "source": [
    "if True:\n",
    "    series = pd.Series(['Dave', 'Cheng-Han', 359, 9001],\n",
    "                       index=['Instructor', 'Curriculum Manager',\n",
    "                              'Course Number', 'Power Level'])\n",
    "    print series"
   ]
  },
  {
   "cell_type": "markdown",
   "metadata": {},
   "source": [
    "'''\n",
    "You can use index to select specific items from the Series\n",
    "'''"
   ]
  },
  {
   "cell_type": "code",
   "execution_count": 164,
   "metadata": {
    "collapsed": false
   },
   "outputs": [
    {
     "name": "stdout",
     "output_type": "stream",
     "text": [
      "Dave\n",
      "\n",
      "Instructor                 Dave\n",
      "Curriculum Manager    Cheng-Han\n",
      "Course Number               359\n",
      "dtype: object\n"
     ]
    }
   ],
   "source": [
    "if True:\n",
    "    series = pd.Series(['Dave', 'Cheng-Han', 359, 9001],\n",
    "                       index=['Instructor', 'Curriculum Manager',\n",
    "                              'Course Number', 'Power Level'])\n",
    "    print series['Instructor']\n",
    "    print \"\"\n",
    "    print series[['Instructor', 'Curriculum Manager', 'Course Number']]"
   ]
  },
  {
   "cell_type": "markdown",
   "metadata": {},
   "source": [
    "\n",
    "'''\n",
    "You can also use boolean operators to select specific items from the Series\n",
    "'''"
   ]
  },
  {
   "cell_type": "code",
   "execution_count": 165,
   "metadata": {
    "collapsed": false
   },
   "outputs": [
    {
     "name": "stdout",
     "output_type": "stream",
     "text": [
      "Cockroach    False\n",
      "Fish         False\n",
      "Mini Pig     False\n",
      "Puppy         True\n",
      "Kitten        True\n",
      "dtype: bool\n",
      "\n",
      "Puppy     4\n",
      "Kitten    5\n",
      "dtype: int64\n"
     ]
    }
   ],
   "source": [
    "if True:\n",
    "    cuteness = pd.Series([1, 2, 3, 4, 5], index=['Cockroach', 'Fish', 'Mini Pig',\n",
    "                                                 'Puppy', 'Kitten'])\n",
    "    print cuteness > 3\n",
    "    print \"\"\n",
    "    print cuteness[cuteness > 3]"
   ]
  },
  {
   "cell_type": "markdown",
   "metadata": {},
   "source": [
    "## Pandas Playground -- Dataframe\n"
   ]
  },
  {
   "cell_type": "markdown",
   "metadata": {},
   "source": [
    "'''\n",
    "To create a dataframe, you can pass a dictionary of lists to the Dataframe\n",
    "constructor:\n",
    "1) The key of the dictionary will be the column name\n",
    "2) The associating list will be the values within that column.\n",
    "'''"
   ]
  },
  {
   "cell_type": "code",
   "execution_count": 166,
   "metadata": {
    "collapsed": false
   },
   "outputs": [
    {
     "name": "stdout",
     "output_type": "stream",
     "text": [
      "   losses     team  wins  year\n",
      "0       5    Bears    11  2010\n",
      "1       8    Bears     8  2011\n",
      "2       6    Bears    10  2012\n",
      "3       1  Packers    15  2011\n",
      "4       5  Packers    11  2012\n",
      "5      10    Lions     6  2010\n",
      "6       6    Lions    10  2011\n",
      "7      12    Lions     4  2012\n"
     ]
    }
   ],
   "source": [
    "if True:\n",
    "    data = {'year': [2010, 2011, 2012, 2011, 2012, 2010, 2011, 2012],\n",
    "            'team': ['Bears', 'Bears', 'Bears', 'Packers', 'Packers', 'Lions',\n",
    "                     'Lions', 'Lions'],\n",
    "            'wins': [11, 8, 10, 15, 11, 6, 10, 4],\n",
    "            'losses': [5, 8, 6, 1, 5, 10, 6, 12]}\n",
    "    football = pd.DataFrame(data)\n",
    "    print football"
   ]
  },
  {
   "cell_type": "markdown",
   "metadata": {},
   "source": [
    "'''\n",
    "Pandas also has various functions that will help you understand some basic\n",
    "information about your data frame. Some of these functions are:\n",
    "1) dtypes: to get the datatype for each column\n",
    "2) describe: useful for seeing basic statistics of the dataframe's numerical\n",
    "   columns\n",
    "3) head: displays the first five rows of the dataset\n",
    "4) tail: displays the last five rows of the dataset\n",
    "'''"
   ]
  },
  {
   "cell_type": "code",
   "execution_count": 167,
   "metadata": {
    "collapsed": false
   },
   "outputs": [
    {
     "name": "stdout",
     "output_type": "stream",
     "text": [
      "losses     int64\n",
      "team      object\n",
      "wins       int64\n",
      "year       int64\n",
      "dtype: object\n",
      "\n",
      "          losses       wins         year\n",
      "count   8.000000   8.000000     8.000000\n",
      "mean    6.625000   9.375000  2011.125000\n",
      "std     3.377975   3.377975     0.834523\n",
      "min     1.000000   4.000000  2010.000000\n",
      "25%     5.000000   7.500000  2010.750000\n",
      "50%     6.000000  10.000000  2011.000000\n",
      "75%     8.500000  11.000000  2012.000000\n",
      "max    12.000000  15.000000  2012.000000\n",
      "\n",
      "   losses     team  wins  year\n",
      "0       5    Bears    11  2010\n",
      "1       8    Bears     8  2011\n",
      "2       6    Bears    10  2012\n",
      "3       1  Packers    15  2011\n",
      "4       5  Packers    11  2012\n",
      "\n",
      "   losses     team  wins  year\n",
      "3       1  Packers    15  2011\n",
      "4       5  Packers    11  2012\n",
      "5      10    Lions     6  2010\n",
      "6       6    Lions    10  2011\n",
      "7      12    Lions     4  2012\n"
     ]
    }
   ],
   "source": [
    "if True:\n",
    "    data = {'year': [2010, 2011, 2012, 2011, 2012, 2010, 2011, 2012],\n",
    "            'team': ['Bears', 'Bears', 'Bears', 'Packers', 'Packers', 'Lions',\n",
    "                     'Lions', 'Lions'],\n",
    "            'wins': [11, 8, 10, 15, 11, 6, 10, 4],\n",
    "            'losses': [5, 8, 6, 1, 5, 10, 6, 12]}\n",
    "    football = pd.DataFrame(data)\n",
    "    print football.dtypes\n",
    "    print \"\"\n",
    "    print football.describe()\n",
    "    print \"\"\n",
    "    print football.head()\n",
    "    print \"\"\n",
    "    print football.tail()"
   ]
  },
  {
   "cell_type": "markdown",
   "metadata": {},
   "source": [
    "## Create a DataFrame"
   ]
  },
  {
   "cell_type": "code",
   "execution_count": 168,
   "metadata": {
    "collapsed": false
   },
   "outputs": [],
   "source": [
    "#################\n",
    "# Syntax Reminder:\n",
    "#\n",
    "# The following code would create a two-column pandas DataFrame\n",
    "# named df with columns labeled 'name' and 'age':\n",
    "#\n",
    "# people = ['Sarah', 'Mike', 'Chrisna']\n",
    "# ages  =  [28, 32, 25]\n",
    "# df = DataFrame({'name' : Series(people),\n",
    "#                 'age'  : Series(ages)})\n",
    "\n",
    "def create_dataframe():\n",
    "    '''\n",
    "    Create a pandas dataframe called 'olympic_medal_counts_df' containing\n",
    "    the data from the table of 2014 Sochi winter olympics medal counts.  \n",
    "\n",
    "    The columns for this dataframe should be called \n",
    "    'country_name', 'gold', 'silver', and 'bronze'.  \n",
    "\n",
    "    There is no need to  specify row indexes for this dataframe \n",
    "    (in this case, the rows will automatically be assigned numbered indexes).\n",
    "    \n",
    "    You do not need to call the function in your code when running it in the\n",
    "    browser - the grader will do that automatically when you submit or test it.\n",
    "    '''\n",
    "\n",
    "    countries = ['Russian Fed.', 'Norway', 'Canada', 'United States',\n",
    "                 'Netherlands', 'Germany', 'Switzerland', 'Belarus',\n",
    "                 'Austria', 'France', 'Poland', 'China', 'Korea', \n",
    "                 'Sweden', 'Czech Republic', 'Slovenia', 'Japan',\n",
    "                 'Finland', 'Great Britain', 'Ukraine', 'Slovakia',\n",
    "                 'Italy', 'Latvia', 'Australia', 'Croatia', 'Kazakhstan']\n",
    "\n",
    "    gold = [13, 11, 10, 9, 8, 8, 6, 5, 4, 4, 4, 3, 3, 2, 2, 2, 1, 1, 1, 1, 1, 0, 0, 0, 0, 0]\n",
    "    silver = [11, 5, 10, 7, 7, 6, 3, 0, 8, 4, 1, 4, 3, 7, 4, 2, 4, 3, 1, 0, 0, 2, 2, 2, 1, 0]\n",
    "    bronze = [9, 10, 5, 12, 9, 5, 2, 1, 5, 7, 1, 2, 2, 6, 2, 4, 3, 1, 2, 1, 0, 6, 2, 1, 0, 1]\n",
    "\n",
    "    # your code here\n",
    "    olympic_medal_counts = { 'countries' : countries,\n",
    "                               'gold' : gold,\n",
    "                               'silver' : silver,\n",
    "                               'bronze' : bronze\n",
    "        \n",
    "    }\n",
    "    olympic_medal_counts_df = DataFrame(olympic_medal_counts)\n",
    "    return olympic_medal_counts_df"
   ]
  },
  {
   "cell_type": "code",
   "execution_count": 169,
   "metadata": {
    "collapsed": false
   },
   "outputs": [
    {
     "data": {
      "text/html": [
       "<div>\n",
       "<table border=\"1\" class=\"dataframe\">\n",
       "  <thead>\n",
       "    <tr style=\"text-align: right;\">\n",
       "      <th></th>\n",
       "      <th>bronze</th>\n",
       "      <th>countries</th>\n",
       "      <th>gold</th>\n",
       "      <th>silver</th>\n",
       "    </tr>\n",
       "  </thead>\n",
       "  <tbody>\n",
       "    <tr>\n",
       "      <th>0</th>\n",
       "      <td>9</td>\n",
       "      <td>Russian Fed.</td>\n",
       "      <td>13</td>\n",
       "      <td>11</td>\n",
       "    </tr>\n",
       "    <tr>\n",
       "      <th>1</th>\n",
       "      <td>10</td>\n",
       "      <td>Norway</td>\n",
       "      <td>11</td>\n",
       "      <td>5</td>\n",
       "    </tr>\n",
       "    <tr>\n",
       "      <th>2</th>\n",
       "      <td>5</td>\n",
       "      <td>Canada</td>\n",
       "      <td>10</td>\n",
       "      <td>10</td>\n",
       "    </tr>\n",
       "    <tr>\n",
       "      <th>3</th>\n",
       "      <td>12</td>\n",
       "      <td>United States</td>\n",
       "      <td>9</td>\n",
       "      <td>7</td>\n",
       "    </tr>\n",
       "    <tr>\n",
       "      <th>4</th>\n",
       "      <td>9</td>\n",
       "      <td>Netherlands</td>\n",
       "      <td>8</td>\n",
       "      <td>7</td>\n",
       "    </tr>\n",
       "    <tr>\n",
       "      <th>5</th>\n",
       "      <td>5</td>\n",
       "      <td>Germany</td>\n",
       "      <td>8</td>\n",
       "      <td>6</td>\n",
       "    </tr>\n",
       "    <tr>\n",
       "      <th>6</th>\n",
       "      <td>2</td>\n",
       "      <td>Switzerland</td>\n",
       "      <td>6</td>\n",
       "      <td>3</td>\n",
       "    </tr>\n",
       "    <tr>\n",
       "      <th>7</th>\n",
       "      <td>1</td>\n",
       "      <td>Belarus</td>\n",
       "      <td>5</td>\n",
       "      <td>0</td>\n",
       "    </tr>\n",
       "    <tr>\n",
       "      <th>8</th>\n",
       "      <td>5</td>\n",
       "      <td>Austria</td>\n",
       "      <td>4</td>\n",
       "      <td>8</td>\n",
       "    </tr>\n",
       "    <tr>\n",
       "      <th>9</th>\n",
       "      <td>7</td>\n",
       "      <td>France</td>\n",
       "      <td>4</td>\n",
       "      <td>4</td>\n",
       "    </tr>\n",
       "    <tr>\n",
       "      <th>10</th>\n",
       "      <td>1</td>\n",
       "      <td>Poland</td>\n",
       "      <td>4</td>\n",
       "      <td>1</td>\n",
       "    </tr>\n",
       "    <tr>\n",
       "      <th>11</th>\n",
       "      <td>2</td>\n",
       "      <td>China</td>\n",
       "      <td>3</td>\n",
       "      <td>4</td>\n",
       "    </tr>\n",
       "    <tr>\n",
       "      <th>12</th>\n",
       "      <td>2</td>\n",
       "      <td>Korea</td>\n",
       "      <td>3</td>\n",
       "      <td>3</td>\n",
       "    </tr>\n",
       "    <tr>\n",
       "      <th>13</th>\n",
       "      <td>6</td>\n",
       "      <td>Sweden</td>\n",
       "      <td>2</td>\n",
       "      <td>7</td>\n",
       "    </tr>\n",
       "    <tr>\n",
       "      <th>14</th>\n",
       "      <td>2</td>\n",
       "      <td>Czech Republic</td>\n",
       "      <td>2</td>\n",
       "      <td>4</td>\n",
       "    </tr>\n",
       "    <tr>\n",
       "      <th>15</th>\n",
       "      <td>4</td>\n",
       "      <td>Slovenia</td>\n",
       "      <td>2</td>\n",
       "      <td>2</td>\n",
       "    </tr>\n",
       "    <tr>\n",
       "      <th>16</th>\n",
       "      <td>3</td>\n",
       "      <td>Japan</td>\n",
       "      <td>1</td>\n",
       "      <td>4</td>\n",
       "    </tr>\n",
       "    <tr>\n",
       "      <th>17</th>\n",
       "      <td>1</td>\n",
       "      <td>Finland</td>\n",
       "      <td>1</td>\n",
       "      <td>3</td>\n",
       "    </tr>\n",
       "    <tr>\n",
       "      <th>18</th>\n",
       "      <td>2</td>\n",
       "      <td>Great Britain</td>\n",
       "      <td>1</td>\n",
       "      <td>1</td>\n",
       "    </tr>\n",
       "    <tr>\n",
       "      <th>19</th>\n",
       "      <td>1</td>\n",
       "      <td>Ukraine</td>\n",
       "      <td>1</td>\n",
       "      <td>0</td>\n",
       "    </tr>\n",
       "    <tr>\n",
       "      <th>20</th>\n",
       "      <td>0</td>\n",
       "      <td>Slovakia</td>\n",
       "      <td>1</td>\n",
       "      <td>0</td>\n",
       "    </tr>\n",
       "    <tr>\n",
       "      <th>21</th>\n",
       "      <td>6</td>\n",
       "      <td>Italy</td>\n",
       "      <td>0</td>\n",
       "      <td>2</td>\n",
       "    </tr>\n",
       "    <tr>\n",
       "      <th>22</th>\n",
       "      <td>2</td>\n",
       "      <td>Latvia</td>\n",
       "      <td>0</td>\n",
       "      <td>2</td>\n",
       "    </tr>\n",
       "    <tr>\n",
       "      <th>23</th>\n",
       "      <td>1</td>\n",
       "      <td>Australia</td>\n",
       "      <td>0</td>\n",
       "      <td>2</td>\n",
       "    </tr>\n",
       "    <tr>\n",
       "      <th>24</th>\n",
       "      <td>0</td>\n",
       "      <td>Croatia</td>\n",
       "      <td>0</td>\n",
       "      <td>1</td>\n",
       "    </tr>\n",
       "    <tr>\n",
       "      <th>25</th>\n",
       "      <td>1</td>\n",
       "      <td>Kazakhstan</td>\n",
       "      <td>0</td>\n",
       "      <td>0</td>\n",
       "    </tr>\n",
       "  </tbody>\n",
       "</table>\n",
       "</div>"
      ],
      "text/plain": [
       "    bronze       countries  gold  silver\n",
       "0        9    Russian Fed.    13      11\n",
       "1       10          Norway    11       5\n",
       "2        5          Canada    10      10\n",
       "3       12   United States     9       7\n",
       "4        9     Netherlands     8       7\n",
       "5        5         Germany     8       6\n",
       "6        2     Switzerland     6       3\n",
       "7        1         Belarus     5       0\n",
       "8        5         Austria     4       8\n",
       "9        7          France     4       4\n",
       "10       1          Poland     4       1\n",
       "11       2           China     3       4\n",
       "12       2           Korea     3       3\n",
       "13       6          Sweden     2       7\n",
       "14       2  Czech Republic     2       4\n",
       "15       4        Slovenia     2       2\n",
       "16       3           Japan     1       4\n",
       "17       1         Finland     1       3\n",
       "18       2   Great Britain     1       1\n",
       "19       1         Ukraine     1       0\n",
       "20       0        Slovakia     1       0\n",
       "21       6           Italy     0       2\n",
       "22       2          Latvia     0       2\n",
       "23       1       Australia     0       2\n",
       "24       0         Croatia     0       1\n",
       "25       1      Kazakhstan     0       0"
      ]
     },
     "execution_count": 169,
     "metadata": {},
     "output_type": "execute_result"
    }
   ],
   "source": [
    "create_dataframe()"
   ]
  },
  {
   "cell_type": "markdown",
   "metadata": {},
   "source": [
    "## Pandas Playground - Indexing Dataframes\n"
   ]
  },
  {
   "cell_type": "markdown",
   "metadata": {},
   "source": [
    "'''\n",
    "You can think of a DataFrame as a group of Series that share an index.\n",
    "This makes it easy to select specific columns that you want from the \n",
    "DataFrame. \n",
    "\n",
    "Also a couple pointers:\n",
    "1) Selecting a single column from the DataFrame will return a Series\n",
    "2) Selecting multiple columns from the DataFrame will return a DataFrame\n",
    "\n",
    "*This playground is inspired by Greg Reda's post on Intro to Pandas Data Structures:\n",
    "http://www.gregreda.com/2013/10/26/intro-to-pandas-data-structures/\n",
    "'''"
   ]
  },
  {
   "cell_type": "code",
   "execution_count": 170,
   "metadata": {
    "collapsed": false
   },
   "outputs": [
    {
     "name": "stdout",
     "output_type": "stream",
     "text": [
      "0    2010\n",
      "1    2011\n",
      "2    2012\n",
      "3    2011\n",
      "4    2012\n",
      "5    2010\n",
      "6    2011\n",
      "7    2012\n",
      "Name: year, dtype: int64\n",
      "\n",
      "0    2010\n",
      "1    2011\n",
      "2    2012\n",
      "3    2011\n",
      "4    2012\n",
      "5    2010\n",
      "6    2011\n",
      "7    2012\n",
      "Name: year, dtype: int64\n",
      "\n",
      "   year  wins  losses\n",
      "0  2010    11       5\n",
      "1  2011     8       8\n",
      "2  2012    10       6\n",
      "3  2011    15       1\n",
      "4  2012    11       5\n",
      "5  2010     6      10\n",
      "6  2011    10       6\n",
      "7  2012     4      12\n"
     ]
    }
   ],
   "source": [
    "if True:\n",
    "    data = {'year': [2010, 2011, 2012, 2011, 2012, 2010, 2011, 2012],\n",
    "            'team': ['Bears', 'Bears', 'Bears', 'Packers', 'Packers', 'Lions',\n",
    "                     'Lions', 'Lions'],\n",
    "            'wins': [11, 8, 10, 15, 11, 6, 10, 4],\n",
    "            'losses': [5, 8, 6, 1, 5, 10, 6, 12]}\n",
    "    football = pd.DataFrame(data)\n",
    "    print football['year']\n",
    "    print ''\n",
    "    print football.year  # shorthand for football['year']\n",
    "    print ''\n",
    "    print football[['year', 'wins', 'losses']]"
   ]
  },
  {
   "cell_type": "markdown",
   "metadata": {},
   "source": [
    "'''\n",
    "Row selection can be done through multiple ways.\n",
    "\n",
    "Some of the basic and common methods are:\n",
    "   1) Slicing\n",
    "   2) An individual index (through the functions iloc or loc)\n",
    "   3) Boolean indexing\n",
    "\n",
    "You can also combine multiple selection requirements through boolean\n",
    "operators like & (and) or | (or)\n",
    "'''"
   ]
  },
  {
   "cell_type": "code",
   "execution_count": 171,
   "metadata": {
    "collapsed": false
   },
   "outputs": [
    {
     "name": "stdout",
     "output_type": "stream",
     "text": [
      "   losses   team  wins  year\n",
      "0       5  Bears    11  2010\n",
      "\n",
      "   losses   team  wins  year\n",
      "0       5  Bears    11  2010\n",
      "\n",
      "   losses     team  wins  year\n",
      "3       1  Packers    15  2011\n",
      "4       5  Packers    11  2012\n",
      "\n",
      "   losses     team  wins  year\n",
      "0       5    Bears    11  2010\n",
      "3       1  Packers    15  2011\n",
      "4       5  Packers    11  2012\n",
      "\n",
      "   losses     team  wins  year\n",
      "3       1  Packers    15  2011\n",
      "4       5  Packers    11  2012\n"
     ]
    }
   ],
   "source": [
    "if True:\n",
    "    data = {'year': [2010, 2011, 2012, 2011, 2012, 2010, 2011, 2012],\n",
    "            'team': ['Bears', 'Bears', 'Bears', 'Packers', 'Packers', 'Lions',\n",
    "                     'Lions', 'Lions'],\n",
    "            'wins': [11, 8, 10, 15, 11, 6, 10, 4],\n",
    "            'losses': [5, 8, 6, 1, 5, 10, 6, 12]}\n",
    "    football = pd.DataFrame(data)\n",
    "    print football.iloc[[0]]\n",
    "    print \"\"\n",
    "    print football.loc[[0]]\n",
    "    print \"\"\n",
    "    print football[3:5]\n",
    "    print \"\"\n",
    "    print football[football.wins > 10]\n",
    "    print \"\"\n",
    "    print football[(football.wins > 10) & (football.team == \"Packers\")]"
   ]
  },
  {
   "cell_type": "code",
   "execution_count": 172,
   "metadata": {
    "collapsed": true
   },
   "outputs": [],
   "source": [
    "from pandas import DataFrame, Series\n",
    "import numpy\n",
    "\n",
    "\n",
    "def avg_medal_count():\n",
    "    '''\n",
    "    Compute the average number of bronze medals earned by countries who\n",
    "    earned at least one gold medal.\n",
    "\n",
    "    Save this to a variable named avg_bronze_at_least_one_gold. You do not\n",
    "    need to call the function in your code when running it in the browser -\n",
    "    the grader will do that automatically when you submit or test it.\n",
    "\n",
    "    HINT-1:\n",
    "    You can retrieve all of the values of a Pandas column from a\n",
    "    data frame, \"df\", as follows:\n",
    "    df['column_name']\n",
    "\n",
    "    HINT-2:\n",
    "    The numpy.mean function can accept as an argument a single\n",
    "    Pandas column.\n",
    "\n",
    "    For example, numpy.mean(df[\"col_name\"]) would return the\n",
    "    mean of the values located in \"col_name\" of a dataframe df.\n",
    "    '''\n",
    "\n",
    "    countries = ['Russian Fed.', 'Norway', 'Canada', 'United States',\n",
    "                 'Netherlands', 'Germany', 'Switzerland', 'Belarus',\n",
    "                 'Austria', 'France', 'Poland', 'China', 'Korea',\n",
    "                 'Sweden', 'Czech Republic', 'Slovenia', 'Japan',\n",
    "                 'Finland', 'Great Britain', 'Ukraine', 'Slovakia',\n",
    "                 'Italy', 'Latvia', 'Australia', 'Croatia', 'Kazakhstan']\n",
    "\n",
    "    gold = [13, 11, 10, 9, 8, 8, 6, 5, 4, 4, 4, 3, 3, 2, 2, 2, 1, 1, 1, 1, 1, 0, 0, 0, 0, 0]\n",
    "    silver = [11, 5, 10, 7, 7, 6, 3, 0, 8, 4, 1, 4, 3, 7, 4, 2, 4, 3, 1, 0, 0, 2, 2, 2, 1, 0]\n",
    "    bronze = [9, 10, 5, 12, 9, 5, 2, 1, 5, 7, 1, 2, 2, 6, 2, 4, 3, 1, 2, 1, 0, 6, 2, 1, 0, 1]\n",
    "\n",
    "    olympic_medal_counts = {'country_name': Series(countries),\n",
    "                            'gold': Series(gold),\n",
    "                            'silver': Series(silver),\n",
    "                            'bronze': Series(bronze)}\n",
    "    df = DataFrame(olympic_medal_counts)\n",
    "\n",
    "    # YOUR CODE HERE\n",
    "    golds = df[df.gold > 0]\n",
    "    avg_bronze_at_least_one_gold = numpy.mean(golds['bronze'])\n",
    "    return avg_bronze_at_least_one_gold"
   ]
  },
  {
   "cell_type": "code",
   "execution_count": 173,
   "metadata": {
    "collapsed": false
   },
   "outputs": [
    {
     "data": {
      "text/plain": [
       "4.238095238095238"
      ]
     },
     "execution_count": 173,
     "metadata": {},
     "output_type": "execute_result"
    }
   ],
   "source": [
    "avg_medal_count()"
   ]
  },
  {
   "cell_type": "code",
   "execution_count": null,
   "metadata": {
    "collapsed": false
   },
   "outputs": [],
   "source": []
  },
  {
   "cell_type": "markdown",
   "metadata": {},
   "source": [
    "## Average Gold, Silver, and Bronze Medals\n"
   ]
  },
  {
   "cell_type": "code",
   "execution_count": 179,
   "metadata": {
    "collapsed": false
   },
   "outputs": [],
   "source": [
    "import numpy\n",
    "from pandas import DataFrame, Series\n",
    "\n",
    "\n",
    "def avg_medal_count():\n",
    "    '''\n",
    "    Using the dataframe's apply method, create a new Series called \n",
    "    avg_medal_count that indicates the average number of gold, silver,\n",
    "    and bronze medals earned amongst countries who earned at \n",
    "    least one medal of any kind at the 2014 Sochi olympics.  Note that\n",
    "    the countries list already only includes countries that have earned\n",
    "    at least one medal. No additional filtering is necessary.\n",
    "    \n",
    "    You do not need to call the function in your code when running it in the\n",
    "    browser - the grader will do that automatically when you submit or test it.\n",
    "    '''\n",
    "\n",
    "    countries = ['Russian Fed.', 'Norway', 'Canada', 'United States',\n",
    "                 'Netherlands', 'Germany', 'Switzerland', 'Belarus',\n",
    "                 'Austria', 'France', 'Poland', 'China', 'Korea', \n",
    "                 'Sweden', 'Czech Republic', 'Slovenia', 'Japan',\n",
    "                 'Finland', 'Great Britain', 'Ukraine', 'Slovakia',\n",
    "                 'Italy', 'Latvia', 'Australia', 'Croatia', 'Kazakhstan']\n",
    "\n",
    "    gold = [13, 11, 10, 9, 8, 8, 6, 5, 4, 4, 4, 3, 3, 2, 2, 2, 1, 1, 1, 1, 1, 0, 0, 0, 0, 0]\n",
    "    silver = [11, 5, 10, 7, 7, 6, 3, 0, 8, 4, 1, 4, 3, 7, 4, 2, 4, 3, 1, 0, 0, 2, 2, 2, 1, 0]\n",
    "    bronze = [9, 10, 5, 12, 9, 5, 2, 1, 5, 7, 1, 2, 2, 6, 2, 4, 3, 1, 2, 1, 0, 6, 2, 1, 0, 1]\n",
    "    \n",
    "    olympic_medal_counts = {'country_name':countries,\n",
    "                            'gold': Series(gold),\n",
    "                            'silver': Series(silver),\n",
    "                            'bronze': Series(bronze)}    \n",
    "    df = DataFrame(olympic_medal_counts)\n",
    "    \n",
    "    # YOUR CODE HERE\n",
    "    \n",
    "    avg_medal_count = df[['gold','silver','bronze']].apply(numpy.mean)\n",
    "\n",
    "    \n",
    "    return avg_medal_count\n"
   ]
  },
  {
   "cell_type": "code",
   "execution_count": 181,
   "metadata": {
    "collapsed": false
   },
   "outputs": [
    {
     "data": {
      "text/plain": [
       "gold      3.807692\n",
       "silver    3.730769\n",
       "bronze    3.807692\n",
       "dtype: float64"
      ]
     },
     "execution_count": 181,
     "metadata": {},
     "output_type": "execute_result"
    }
   ],
   "source": [
    "avg_medal_count()"
   ]
  },
  {
   "cell_type": "markdown",
   "metadata": {},
   "source": [
    "## Olympics Medal Points\n"
   ]
  },
  {
   "cell_type": "code",
   "execution_count": 203,
   "metadata": {
    "collapsed": false
   },
   "outputs": [],
   "source": [
    "countries = ['Russian Fed.', 'Norway', 'Canada', 'United States',\n",
    "                 'Netherlands', 'Germany', 'Switzerland', 'Belarus',\n",
    "                 'Austria', 'France', 'Poland', 'China', 'Korea', \n",
    "                 'Sweden', 'Czech Republic', 'Slovenia', 'Japan',\n",
    "                 'Finland', 'Great Britain', 'Ukraine', 'Slovakia',\n",
    "                 'Italy', 'Latvia', 'Australia', 'Croatia', 'Kazakhstan']\n",
    "\n",
    "gold = [13, 11, 10, 9, 8, 8, 6, 5, 4, 4, 4, 3, 3, 2, 2, 2, 1, 1, 1, 1, 1, 0, 0, 0, 0, 0]\n",
    "silver = [11, 5, 10, 7, 7, 6, 3, 0, 8, 4, 1, 4, 3, 7, 4, 2, 4, 3, 1, 0, 0, 2, 2, 2, 1, 0]\n",
    "bronze = [9, 10, 5, 12, 9, 5, 2, 1, 5, 7, 1, 2, 2, 6, 2, 4, 3, 1, 2, 1, 0, 6, 2, 1, 0, 1]\n",
    "\n",
    "medal = [gold,silver,bronze]\n",
    "point =[4,2,1]"
   ]
  },
  {
   "cell_type": "code",
   "execution_count": 204,
   "metadata": {
    "collapsed": false
   },
   "outputs": [
    {
     "data": {
      "text/plain": [
       "[4, 2, 1]"
      ]
     },
     "execution_count": 204,
     "metadata": {},
     "output_type": "execute_result"
    }
   ],
   "source": [
    "point"
   ]
  },
  {
   "cell_type": "code",
   "execution_count": 205,
   "metadata": {
    "collapsed": false
   },
   "outputs": [
    {
     "data": {
      "text/plain": [
       "[[13,\n",
       "  11,\n",
       "  10,\n",
       "  9,\n",
       "  8,\n",
       "  8,\n",
       "  6,\n",
       "  5,\n",
       "  4,\n",
       "  4,\n",
       "  4,\n",
       "  3,\n",
       "  3,\n",
       "  2,\n",
       "  2,\n",
       "  2,\n",
       "  1,\n",
       "  1,\n",
       "  1,\n",
       "  1,\n",
       "  1,\n",
       "  0,\n",
       "  0,\n",
       "  0,\n",
       "  0,\n",
       "  0],\n",
       " [11,\n",
       "  5,\n",
       "  10,\n",
       "  7,\n",
       "  7,\n",
       "  6,\n",
       "  3,\n",
       "  0,\n",
       "  8,\n",
       "  4,\n",
       "  1,\n",
       "  4,\n",
       "  3,\n",
       "  7,\n",
       "  4,\n",
       "  2,\n",
       "  4,\n",
       "  3,\n",
       "  1,\n",
       "  0,\n",
       "  0,\n",
       "  2,\n",
       "  2,\n",
       "  2,\n",
       "  1,\n",
       "  0],\n",
       " [9,\n",
       "  10,\n",
       "  5,\n",
       "  12,\n",
       "  9,\n",
       "  5,\n",
       "  2,\n",
       "  1,\n",
       "  5,\n",
       "  7,\n",
       "  1,\n",
       "  2,\n",
       "  2,\n",
       "  6,\n",
       "  2,\n",
       "  4,\n",
       "  3,\n",
       "  1,\n",
       "  2,\n",
       "  1,\n",
       "  0,\n",
       "  6,\n",
       "  2,\n",
       "  1,\n",
       "  0,\n",
       "  1]]"
      ]
     },
     "execution_count": 205,
     "metadata": {},
     "output_type": "execute_result"
    }
   ],
   "source": [
    "medal"
   ]
  },
  {
   "cell_type": "code",
   "execution_count": 207,
   "metadata": {
    "collapsed": false
   },
   "outputs": [
    {
     "data": {
      "text/plain": [
       "array([83, 64, 65, 62, 55, 49, 32, 21, 37, 31, 19, 22, 20, 28, 18, 16, 15,\n",
       "       11,  8,  5,  4, 10,  6,  5,  2,  1])"
      ]
     },
     "execution_count": 207,
     "metadata": {},
     "output_type": "execute_result"
    }
   ],
   "source": [
    "np.dot(point,medal)"
   ]
  },
  {
   "cell_type": "code",
   "execution_count": 211,
   "metadata": {
    "collapsed": false
   },
   "outputs": [
    {
     "data": {
      "text/plain": [
       "{'country_name': ['Russian Fed.',\n",
       "  'Norway',\n",
       "  'Canada',\n",
       "  'United States',\n",
       "  'Netherlands',\n",
       "  'Germany',\n",
       "  'Switzerland',\n",
       "  'Belarus',\n",
       "  'Austria',\n",
       "  'France',\n",
       "  'Poland',\n",
       "  'China',\n",
       "  'Korea',\n",
       "  'Sweden',\n",
       "  'Czech Republic',\n",
       "  'Slovenia',\n",
       "  'Japan',\n",
       "  'Finland',\n",
       "  'Great Britain',\n",
       "  'Ukraine',\n",
       "  'Slovakia',\n",
       "  'Italy',\n",
       "  'Latvia',\n",
       "  'Australia',\n",
       "  'Croatia',\n",
       "  'Kazakhstan'],\n",
       " 'points': array([83, 64, 65, 62, 55, 49, 32, 21, 37, 31, 19, 22, 20, 28, 18, 16, 15,\n",
       "        11,  8,  5,  4, 10,  6,  5,  2,  1])}"
      ]
     },
     "execution_count": 211,
     "metadata": {},
     "output_type": "execute_result"
    }
   ],
   "source": [
    "points  = numpy.dot(point,medal)\n",
    "\n",
    "data = { 'country_name' : countries,\n",
    "                'points' : points\n",
    "        }\n",
    "data"
   ]
  },
  {
   "cell_type": "code",
   "execution_count": 212,
   "metadata": {
    "collapsed": false
   },
   "outputs": [
    {
     "data": {
      "text/html": [
       "<div>\n",
       "<table border=\"1\" class=\"dataframe\">\n",
       "  <thead>\n",
       "    <tr style=\"text-align: right;\">\n",
       "      <th></th>\n",
       "      <th>country_name</th>\n",
       "      <th>points</th>\n",
       "    </tr>\n",
       "  </thead>\n",
       "  <tbody>\n",
       "    <tr>\n",
       "      <th>0</th>\n",
       "      <td>Russian Fed.</td>\n",
       "      <td>83</td>\n",
       "    </tr>\n",
       "    <tr>\n",
       "      <th>1</th>\n",
       "      <td>Norway</td>\n",
       "      <td>64</td>\n",
       "    </tr>\n",
       "    <tr>\n",
       "      <th>2</th>\n",
       "      <td>Canada</td>\n",
       "      <td>65</td>\n",
       "    </tr>\n",
       "    <tr>\n",
       "      <th>3</th>\n",
       "      <td>United States</td>\n",
       "      <td>62</td>\n",
       "    </tr>\n",
       "    <tr>\n",
       "      <th>4</th>\n",
       "      <td>Netherlands</td>\n",
       "      <td>55</td>\n",
       "    </tr>\n",
       "    <tr>\n",
       "      <th>5</th>\n",
       "      <td>Germany</td>\n",
       "      <td>49</td>\n",
       "    </tr>\n",
       "    <tr>\n",
       "      <th>6</th>\n",
       "      <td>Switzerland</td>\n",
       "      <td>32</td>\n",
       "    </tr>\n",
       "    <tr>\n",
       "      <th>7</th>\n",
       "      <td>Belarus</td>\n",
       "      <td>21</td>\n",
       "    </tr>\n",
       "    <tr>\n",
       "      <th>8</th>\n",
       "      <td>Austria</td>\n",
       "      <td>37</td>\n",
       "    </tr>\n",
       "    <tr>\n",
       "      <th>9</th>\n",
       "      <td>France</td>\n",
       "      <td>31</td>\n",
       "    </tr>\n",
       "    <tr>\n",
       "      <th>10</th>\n",
       "      <td>Poland</td>\n",
       "      <td>19</td>\n",
       "    </tr>\n",
       "    <tr>\n",
       "      <th>11</th>\n",
       "      <td>China</td>\n",
       "      <td>22</td>\n",
       "    </tr>\n",
       "    <tr>\n",
       "      <th>12</th>\n",
       "      <td>Korea</td>\n",
       "      <td>20</td>\n",
       "    </tr>\n",
       "    <tr>\n",
       "      <th>13</th>\n",
       "      <td>Sweden</td>\n",
       "      <td>28</td>\n",
       "    </tr>\n",
       "    <tr>\n",
       "      <th>14</th>\n",
       "      <td>Czech Republic</td>\n",
       "      <td>18</td>\n",
       "    </tr>\n",
       "    <tr>\n",
       "      <th>15</th>\n",
       "      <td>Slovenia</td>\n",
       "      <td>16</td>\n",
       "    </tr>\n",
       "    <tr>\n",
       "      <th>16</th>\n",
       "      <td>Japan</td>\n",
       "      <td>15</td>\n",
       "    </tr>\n",
       "    <tr>\n",
       "      <th>17</th>\n",
       "      <td>Finland</td>\n",
       "      <td>11</td>\n",
       "    </tr>\n",
       "    <tr>\n",
       "      <th>18</th>\n",
       "      <td>Great Britain</td>\n",
       "      <td>8</td>\n",
       "    </tr>\n",
       "    <tr>\n",
       "      <th>19</th>\n",
       "      <td>Ukraine</td>\n",
       "      <td>5</td>\n",
       "    </tr>\n",
       "    <tr>\n",
       "      <th>20</th>\n",
       "      <td>Slovakia</td>\n",
       "      <td>4</td>\n",
       "    </tr>\n",
       "    <tr>\n",
       "      <th>21</th>\n",
       "      <td>Italy</td>\n",
       "      <td>10</td>\n",
       "    </tr>\n",
       "    <tr>\n",
       "      <th>22</th>\n",
       "      <td>Latvia</td>\n",
       "      <td>6</td>\n",
       "    </tr>\n",
       "    <tr>\n",
       "      <th>23</th>\n",
       "      <td>Australia</td>\n",
       "      <td>5</td>\n",
       "    </tr>\n",
       "    <tr>\n",
       "      <th>24</th>\n",
       "      <td>Croatia</td>\n",
       "      <td>2</td>\n",
       "    </tr>\n",
       "    <tr>\n",
       "      <th>25</th>\n",
       "      <td>Kazakhstan</td>\n",
       "      <td>1</td>\n",
       "    </tr>\n",
       "  </tbody>\n",
       "</table>\n",
       "</div>"
      ],
      "text/plain": [
       "      country_name  points\n",
       "0     Russian Fed.      83\n",
       "1           Norway      64\n",
       "2           Canada      65\n",
       "3    United States      62\n",
       "4      Netherlands      55\n",
       "5          Germany      49\n",
       "6      Switzerland      32\n",
       "7          Belarus      21\n",
       "8          Austria      37\n",
       "9           France      31\n",
       "10          Poland      19\n",
       "11           China      22\n",
       "12           Korea      20\n",
       "13          Sweden      28\n",
       "14  Czech Republic      18\n",
       "15        Slovenia      16\n",
       "16           Japan      15\n",
       "17         Finland      11\n",
       "18   Great Britain       8\n",
       "19         Ukraine       5\n",
       "20        Slovakia       4\n",
       "21           Italy      10\n",
       "22          Latvia       6\n",
       "23       Australia       5\n",
       "24         Croatia       2\n",
       "25      Kazakhstan       1"
      ]
     },
     "execution_count": 212,
     "metadata": {},
     "output_type": "execute_result"
    }
   ],
   "source": [
    "DataFrame(data)"
   ]
  },
  {
   "cell_type": "code",
   "execution_count": null,
   "metadata": {
    "collapsed": true
   },
   "outputs": [],
   "source": []
  },
  {
   "cell_type": "code",
   "execution_count": null,
   "metadata": {
    "collapsed": true
   },
   "outputs": [],
   "source": []
  }
 ],
 "metadata": {
  "kernelspec": {
   "display_name": "Python 2",
   "language": "python",
   "name": "python2"
  },
  "language_info": {
   "codemirror_mode": {
    "name": "ipython",
    "version": 2
   },
   "file_extension": ".py",
   "mimetype": "text/x-python",
   "name": "python",
   "nbconvert_exporter": "python",
   "pygments_lexer": "ipython2",
   "version": "2.7.13"
  }
 },
 "nbformat": 4,
 "nbformat_minor": 2
}
