{
 "cells": [
  {
   "cell_type": "markdown",
   "metadata": {},
   "source": [
    "## Basics Udemy"
   ]
  },
  {
   "cell_type": "code",
   "execution_count": 26,
   "metadata": {
    "collapsed": true
   },
   "outputs": [],
   "source": [
    "import numpy as np"
   ]
  },
  {
   "cell_type": "code",
   "execution_count": 3,
   "metadata": {
    "collapsed": true
   },
   "outputs": [],
   "source": [
    "my_list1 = [1,2,3,4]"
   ]
  },
  {
   "cell_type": "code",
   "execution_count": 4,
   "metadata": {
    "collapsed": true
   },
   "outputs": [],
   "source": [
    "my_list2 = [11,22 , 33 , 44]"
   ]
  },
  {
   "cell_type": "code",
   "execution_count": 7,
   "metadata": {
    "collapsed": false
   },
   "outputs": [],
   "source": [
    "my_array = np.array([my_list1, my_list2])"
   ]
  },
  {
   "cell_type": "code",
   "execution_count": 8,
   "metadata": {
    "collapsed": false
   },
   "outputs": [
    {
     "data": {
      "text/plain": [
       "array([[ 1,  2,  3,  4],\n",
       "       [11, 22, 33, 44]])"
      ]
     },
     "execution_count": 8,
     "metadata": {},
     "output_type": "execute_result"
    }
   ],
   "source": [
    "my_array"
   ]
  },
  {
   "cell_type": "code",
   "execution_count": 9,
   "metadata": {
    "collapsed": false
   },
   "outputs": [
    {
     "data": {
      "text/plain": [
       "(2L, 4L)"
      ]
     },
     "execution_count": 9,
     "metadata": {},
     "output_type": "execute_result"
    }
   ],
   "source": [
    "my_array.shape"
   ]
  },
  {
   "cell_type": "code",
   "execution_count": 10,
   "metadata": {
    "collapsed": false
   },
   "outputs": [
    {
     "data": {
      "text/plain": [
       "dtype('int32')"
      ]
     },
     "execution_count": 10,
     "metadata": {},
     "output_type": "execute_result"
    }
   ],
   "source": [
    "my_array.dtype"
   ]
  },
  {
   "cell_type": "code",
   "execution_count": 14,
   "metadata": {
    "collapsed": false
   },
   "outputs": [
    {
     "data": {
      "text/plain": [
       "array([ 0.,  0.,  0.,  0.,  0.])"
      ]
     },
     "execution_count": 14,
     "metadata": {},
     "output_type": "execute_result"
    }
   ],
   "source": [
    "np.zeros(5)"
   ]
  },
  {
   "cell_type": "code",
   "execution_count": 15,
   "metadata": {
    "collapsed": false
   },
   "outputs": [
    {
     "data": {
      "text/plain": [
       "array([ 1.,  1.,  1.,  1.,  1.])"
      ]
     },
     "execution_count": 15,
     "metadata": {},
     "output_type": "execute_result"
    }
   ],
   "source": [
    "np.ones(5)"
   ]
  },
  {
   "cell_type": "code",
   "execution_count": 17,
   "metadata": {
    "collapsed": false
   },
   "outputs": [
    {
     "data": {
      "text/plain": [
       "array([[ 1.,  1.,  1.,  1.,  1.],\n",
       "       [ 1.,  1.,  1.,  1.,  1.],\n",
       "       [ 1.,  1.,  1.,  1.,  1.],\n",
       "       [ 1.,  1.,  1.,  1.,  1.],\n",
       "       [ 1.,  1.,  1.,  1.,  1.]])"
      ]
     },
     "execution_count": 17,
     "metadata": {},
     "output_type": "execute_result"
    }
   ],
   "source": [
    "np.ones([5,5])"
   ]
  },
  {
   "cell_type": "code",
   "execution_count": 18,
   "metadata": {
    "collapsed": false
   },
   "outputs": [
    {
     "data": {
      "text/plain": [
       "array([[ 0.,  0.,  0.,  0.,  0.],\n",
       "       [ 0.,  0.,  0.,  0.,  0.],\n",
       "       [ 0.,  0.,  0.,  0.,  0.],\n",
       "       [ 0.,  0.,  0.,  0.,  0.],\n",
       "       [ 0.,  0.,  0.,  0.,  0.]])"
      ]
     },
     "execution_count": 18,
     "metadata": {},
     "output_type": "execute_result"
    }
   ],
   "source": [
    "np.zeros([5,5])"
   ]
  },
  {
   "cell_type": "code",
   "execution_count": 19,
   "metadata": {
    "collapsed": false
   },
   "outputs": [
    {
     "data": {
      "text/plain": [
       "array([ 0.,  0.,  0.,  0.,  0.])"
      ]
     },
     "execution_count": 19,
     "metadata": {},
     "output_type": "execute_result"
    }
   ],
   "source": [
    "np.empty(5)"
   ]
  },
  {
   "cell_type": "code",
   "execution_count": 20,
   "metadata": {
    "collapsed": false
   },
   "outputs": [
    {
     "data": {
      "text/plain": [
       "array([[ 1.,  0.,  0.,  0.,  0.],\n",
       "       [ 0.,  1.,  0.,  0.,  0.],\n",
       "       [ 0.,  0.,  1.,  0.,  0.],\n",
       "       [ 0.,  0.,  0.,  1.,  0.],\n",
       "       [ 0.,  0.,  0.,  0.,  1.]])"
      ]
     },
     "execution_count": 20,
     "metadata": {},
     "output_type": "execute_result"
    }
   ],
   "source": [
    "np.eye(5)"
   ]
  },
  {
   "cell_type": "code",
   "execution_count": 25,
   "metadata": {
    "collapsed": false
   },
   "outputs": [
    {
     "data": {
      "text/plain": [
       "array([ 5, 10, 15, 20, 25, 30])"
      ]
     },
     "execution_count": 25,
     "metadata": {},
     "output_type": "execute_result"
    }
   ],
   "source": [
    "np.arange(5,31,5)"
   ]
  },
  {
   "cell_type": "markdown",
   "metadata": {},
   "source": [
    "## Arrays and scalars "
   ]
  },
  {
   "cell_type": "code",
   "execution_count": 28,
   "metadata": {
    "collapsed": true
   },
   "outputs": [],
   "source": [
    "from __future__ import division #this will import division from py3"
   ]
  },
  {
   "cell_type": "code",
   "execution_count": 29,
   "metadata": {
    "collapsed": false
   },
   "outputs": [
    {
     "data": {
      "text/plain": [
       "2.5"
      ]
     },
     "execution_count": 29,
     "metadata": {},
     "output_type": "execute_result"
    }
   ],
   "source": [
    "5/2"
   ]
  },
  {
   "cell_type": "code",
   "execution_count": 30,
   "metadata": {
    "collapsed": true
   },
   "outputs": [],
   "source": [
    "arr1  = np.array([[1,2,3,4],[5,6,7,8]])"
   ]
  },
  {
   "cell_type": "code",
   "execution_count": 31,
   "metadata": {
    "collapsed": false
   },
   "outputs": [
    {
     "data": {
      "text/plain": [
       "array([[ 1,  4,  9, 16],\n",
       "       [25, 36, 49, 64]])"
      ]
     },
     "execution_count": 31,
     "metadata": {},
     "output_type": "execute_result"
    }
   ],
   "source": [
    "arr1 * arr1"
   ]
  },
  {
   "cell_type": "code",
   "execution_count": 32,
   "metadata": {
    "collapsed": false
   },
   "outputs": [
    {
     "data": {
      "text/plain": [
       "array([[ 1,  4,  9, 16],\n",
       "       [25, 36, 49, 64]])"
      ]
     },
     "execution_count": 32,
     "metadata": {},
     "output_type": "execute_result"
    }
   ],
   "source": [
    "arr1 ** 2"
   ]
  },
  {
   "cell_type": "code",
   "execution_count": 33,
   "metadata": {
    "collapsed": false
   },
   "outputs": [
    {
     "data": {
      "text/plain": [
       "array([[0, 0, 0, 0],\n",
       "       [0, 0, 0, 0]])"
      ]
     },
     "execution_count": 33,
     "metadata": {},
     "output_type": "execute_result"
    }
   ],
   "source": [
    "arr1 - arr1"
   ]
  },
  {
   "cell_type": "code",
   "execution_count": 34,
   "metadata": {
    "collapsed": false
   },
   "outputs": [
    {
     "data": {
      "text/plain": [
       "array([[ 1.        ,  0.5       ,  0.33333333,  0.25      ],\n",
       "       [ 0.2       ,  0.16666667,  0.14285714,  0.125     ]])"
      ]
     },
     "execution_count": 34,
     "metadata": {},
     "output_type": "execute_result"
    }
   ],
   "source": [
    "1 / arr1"
   ]
  },
  {
   "cell_type": "code",
   "execution_count": 35,
   "metadata": {
    "collapsed": false
   },
   "outputs": [
    {
     "data": {
      "text/plain": [
       "array([[ 2,  4,  6,  8],\n",
       "       [10, 12, 14, 16]])"
      ]
     },
     "execution_count": 35,
     "metadata": {},
     "output_type": "execute_result"
    }
   ],
   "source": [
    "arr1 + arr1"
   ]
  },
  {
   "cell_type": "code",
   "execution_count": 36,
   "metadata": {
    "collapsed": false
   },
   "outputs": [
    {
     "data": {
      "text/plain": [
       "array([[ 2,  4,  6,  8],\n",
       "       [10, 12, 14, 16]])"
      ]
     },
     "execution_count": 36,
     "metadata": {},
     "output_type": "execute_result"
    }
   ],
   "source": [
    "2 * arr1"
   ]
  },
  {
   "cell_type": "markdown",
   "metadata": {},
   "source": [
    "## Indexing_Arrays"
   ]
  },
  {
   "cell_type": "code",
   "execution_count": 37,
   "metadata": {
    "collapsed": true
   },
   "outputs": [],
   "source": [
    "array = np.arange(11)"
   ]
  },
  {
   "cell_type": "code",
   "execution_count": 38,
   "metadata": {
    "collapsed": false
   },
   "outputs": [
    {
     "data": {
      "text/plain": [
       "array([ 0,  1,  2,  3,  4,  5,  6,  7,  8,  9, 10])"
      ]
     },
     "execution_count": 38,
     "metadata": {},
     "output_type": "execute_result"
    }
   ],
   "source": [
    "array"
   ]
  },
  {
   "cell_type": "code",
   "execution_count": 40,
   "metadata": {
    "collapsed": false
   },
   "outputs": [],
   "source": [
    "slice_of_array = array[0:6]"
   ]
  },
  {
   "cell_type": "code",
   "execution_count": 41,
   "metadata": {
    "collapsed": false
   },
   "outputs": [
    {
     "data": {
      "text/plain": [
       "array([0, 1, 2, 3, 4, 5])"
      ]
     },
     "execution_count": 41,
     "metadata": {},
     "output_type": "execute_result"
    }
   ],
   "source": [
    "slice_of_array"
   ]
  },
  {
   "cell_type": "code",
   "execution_count": 42,
   "metadata": {
    "collapsed": true
   },
   "outputs": [],
   "source": [
    "slice_of_array[:] = 99"
   ]
  },
  {
   "cell_type": "code",
   "execution_count": 43,
   "metadata": {
    "collapsed": false
   },
   "outputs": [
    {
     "data": {
      "text/plain": [
       "array([99, 99, 99, 99, 99, 99,  6,  7,  8,  9, 10])"
      ]
     },
     "execution_count": 43,
     "metadata": {},
     "output_type": "execute_result"
    }
   ],
   "source": [
    "array"
   ]
  },
  {
   "cell_type": "markdown",
   "metadata": {},
   "source": [
    "####  Note that the changes also occur in our original array. Data is not copied, it's a view of the original array. This avoids memory problems. "
   ]
  },
  {
   "cell_type": "code",
   "execution_count": 47,
   "metadata": {
    "collapsed": false
   },
   "outputs": [],
   "source": [
    "arr_copy = array[0:5].copy()"
   ]
  },
  {
   "cell_type": "code",
   "execution_count": 48,
   "metadata": {
    "collapsed": false
   },
   "outputs": [
    {
     "data": {
      "text/plain": [
       "array([99, 99, 99, 99, 99])"
      ]
     },
     "execution_count": 48,
     "metadata": {},
     "output_type": "execute_result"
    }
   ],
   "source": [
    "arr_copy"
   ]
  },
  {
   "cell_type": "code",
   "execution_count": 49,
   "metadata": {
    "collapsed": true
   },
   "outputs": [],
   "source": [
    "arr_copy[:] = 100"
   ]
  },
  {
   "cell_type": "code",
   "execution_count": 50,
   "metadata": {
    "collapsed": false
   },
   "outputs": [
    {
     "data": {
      "text/plain": [
       "array([100, 100, 100, 100, 100])"
      ]
     },
     "execution_count": 50,
     "metadata": {},
     "output_type": "execute_result"
    }
   ],
   "source": [
    "arr_copy"
   ]
  },
  {
   "cell_type": "code",
   "execution_count": 51,
   "metadata": {
    "collapsed": false
   },
   "outputs": [
    {
     "data": {
      "text/plain": [
       "array([99, 99, 99, 99, 99, 99,  6,  7,  8,  9, 10])"
      ]
     },
     "execution_count": 51,
     "metadata": {},
     "output_type": "execute_result"
    }
   ],
   "source": [
    "array"
   ]
  },
  {
   "cell_type": "code",
   "execution_count": 52,
   "metadata": {
    "collapsed": true
   },
   "outputs": [],
   "source": [
    "array_index = np.array([np.arange(1,6),np.arange(6,11),np.arange(11,16)])"
   ]
  },
  {
   "cell_type": "code",
   "execution_count": 53,
   "metadata": {
    "collapsed": false
   },
   "outputs": [
    {
     "data": {
      "text/plain": [
       "array([[ 1,  2,  3,  4,  5],\n",
       "       [ 6,  7,  8,  9, 10],\n",
       "       [11, 12, 13, 14, 15]])"
      ]
     },
     "execution_count": 53,
     "metadata": {},
     "output_type": "execute_result"
    }
   ],
   "source": [
    "array_index"
   ]
  },
  {
   "cell_type": "code",
   "execution_count": 54,
   "metadata": {
    "collapsed": false
   },
   "outputs": [
    {
     "data": {
      "text/plain": [
       "array([ 6,  7,  8,  9, 10])"
      ]
     },
     "execution_count": 54,
     "metadata": {},
     "output_type": "execute_result"
    }
   ],
   "source": [
    "array_index[1]"
   ]
  },
  {
   "cell_type": "code",
   "execution_count": 55,
   "metadata": {
    "collapsed": false
   },
   "outputs": [
    {
     "data": {
      "text/plain": [
       "7"
      ]
     },
     "execution_count": 55,
     "metadata": {},
     "output_type": "execute_result"
    }
   ],
   "source": [
    "array_index[1][1]"
   ]
  },
  {
   "cell_type": "code",
   "execution_count": 70,
   "metadata": {
    "collapsed": false
   },
   "outputs": [
    {
     "data": {
      "text/plain": [
       "array([[ 4,  5],\n",
       "       [ 9, 10],\n",
       "       [14, 15]])"
      ]
     },
     "execution_count": 70,
     "metadata": {},
     "output_type": "execute_result"
    }
   ],
   "source": [
    "array_index[:3,3:]"
   ]
  },
  {
   "cell_type": "code",
   "execution_count": 67,
   "metadata": {
    "collapsed": false
   },
   "outputs": [
    {
     "data": {
      "text/plain": [
       "array([[1, 2, 3, 4, 5]])"
      ]
     },
     "execution_count": 67,
     "metadata": {},
     "output_type": "execute_result"
    }
   ],
   "source": [
    "array_index[1]"
   ]
  },
  {
   "cell_type": "code",
   "execution_count": 68,
   "metadata": {
    "collapsed": false
   },
   "outputs": [
    {
     "data": {
      "text/plain": [
       "array([0, 0, 0], dtype=int64)"
      ]
     },
     "execution_count": 68,
     "metadata": {},
     "output_type": "execute_result"
    }
   ],
   "source": [
    "np.argmin(array_index,1)\n"
   ]
  },
  {
   "cell_type": "code",
   "execution_count": 77,
   "metadata": {
    "collapsed": false
   },
   "outputs": [],
   "source": [
    "arr = np.array([[  0.,  10.,  20.,  30.,  40.],[  1.,  11.,  21.,  31.,  41.], [  2.,  12.,  22.,  32.,  42.]])"
   ]
  },
  {
   "cell_type": "code",
   "execution_count": 78,
   "metadata": {
    "collapsed": false
   },
   "outputs": [
    {
     "data": {
      "text/plain": [
       "array([[  0.,  10.,  20.,  30.,  40.],\n",
       "       [  1.,  11.,  21.,  31.,  41.],\n",
       "       [  2.,  12.,  22.,  32.,  42.]])"
      ]
     },
     "execution_count": 78,
     "metadata": {},
     "output_type": "execute_result"
    }
   ],
   "source": [
    "arr"
   ]
  },
  {
   "cell_type": "code",
   "execution_count": 79,
   "metadata": {
    "collapsed": false
   },
   "outputs": [
    {
     "data": {
      "text/plain": [
       "array([[  2.,  12.,  22.,  32.,  42.],\n",
       "       [  1.,  11.,  21.,  31.,  41.]])"
      ]
     },
     "execution_count": 79,
     "metadata": {},
     "output_type": "execute_result"
    }
   ],
   "source": [
    "arr[[2,1]] "
   ]
  },
  {
   "cell_type": "markdown",
   "metadata": {},
   "source": [
    "### Array Transposition "
   ]
  },
  {
   "cell_type": "code",
   "execution_count": 81,
   "metadata": {
    "collapsed": false
   },
   "outputs": [],
   "source": [
    "arr = np.arange(50).reshape((10,5))"
   ]
  },
  {
   "cell_type": "code",
   "execution_count": 82,
   "metadata": {
    "collapsed": false
   },
   "outputs": [
    {
     "data": {
      "text/plain": [
       "array([[ 0,  1,  2,  3,  4],\n",
       "       [ 5,  6,  7,  8,  9],\n",
       "       [10, 11, 12, 13, 14],\n",
       "       [15, 16, 17, 18, 19],\n",
       "       [20, 21, 22, 23, 24],\n",
       "       [25, 26, 27, 28, 29],\n",
       "       [30, 31, 32, 33, 34],\n",
       "       [35, 36, 37, 38, 39],\n",
       "       [40, 41, 42, 43, 44],\n",
       "       [45, 46, 47, 48, 49]])"
      ]
     },
     "execution_count": 82,
     "metadata": {},
     "output_type": "execute_result"
    }
   ],
   "source": [
    "arr"
   ]
  },
  {
   "cell_type": "code",
   "execution_count": 83,
   "metadata": {
    "collapsed": false
   },
   "outputs": [
    {
     "data": {
      "text/plain": [
       "array([[ 0,  5, 10, 15, 20, 25, 30, 35, 40, 45],\n",
       "       [ 1,  6, 11, 16, 21, 26, 31, 36, 41, 46],\n",
       "       [ 2,  7, 12, 17, 22, 27, 32, 37, 42, 47],\n",
       "       [ 3,  8, 13, 18, 23, 28, 33, 38, 43, 48],\n",
       "       [ 4,  9, 14, 19, 24, 29, 34, 39, 44, 49]])"
      ]
     },
     "execution_count": 83,
     "metadata": {},
     "output_type": "execute_result"
    }
   ],
   "source": [
    "arr.T"
   ]
  },
  {
   "cell_type": "code",
   "execution_count": 85,
   "metadata": {
    "collapsed": false
   },
   "outputs": [
    {
     "data": {
      "text/plain": [
       "array([[7125, 7350, 7575, 7800, 8025],\n",
       "       [7350, 7585, 7820, 8055, 8290],\n",
       "       [7575, 7820, 8065, 8310, 8555],\n",
       "       [7800, 8055, 8310, 8565, 8820],\n",
       "       [8025, 8290, 8555, 8820, 9085]])"
      ]
     },
     "execution_count": 85,
     "metadata": {},
     "output_type": "execute_result"
    }
   ],
   "source": [
    "np.dot(arr.T,arr)"
   ]
  },
  {
   "cell_type": "code",
   "execution_count": 86,
   "metadata": {
    "collapsed": true
   },
   "outputs": [],
   "source": [
    "array3d = np.arange(50).reshape(5,5,2)"
   ]
  },
  {
   "cell_type": "code",
   "execution_count": 87,
   "metadata": {
    "collapsed": false
   },
   "outputs": [
    {
     "data": {
      "text/plain": [
       "array([[[ 0,  1],\n",
       "        [ 2,  3],\n",
       "        [ 4,  5],\n",
       "        [ 6,  7],\n",
       "        [ 8,  9]],\n",
       "\n",
       "       [[10, 11],\n",
       "        [12, 13],\n",
       "        [14, 15],\n",
       "        [16, 17],\n",
       "        [18, 19]],\n",
       "\n",
       "       [[20, 21],\n",
       "        [22, 23],\n",
       "        [24, 25],\n",
       "        [26, 27],\n",
       "        [28, 29]],\n",
       "\n",
       "       [[30, 31],\n",
       "        [32, 33],\n",
       "        [34, 35],\n",
       "        [36, 37],\n",
       "        [38, 39]],\n",
       "\n",
       "       [[40, 41],\n",
       "        [42, 43],\n",
       "        [44, 45],\n",
       "        [46, 47],\n",
       "        [48, 49]]])"
      ]
     },
     "execution_count": 87,
     "metadata": {},
     "output_type": "execute_result"
    }
   ],
   "source": [
    "array3d"
   ]
  },
  {
   "cell_type": "markdown",
   "metadata": {},
   "source": [
    "### Universal array function"
   ]
  },
  {
   "cell_type": "code",
   "execution_count": 88,
   "metadata": {
    "collapsed": true
   },
   "outputs": [],
   "source": [
    "arr = np.arange(11)"
   ]
  },
  {
   "cell_type": "code",
   "execution_count": 89,
   "metadata": {
    "collapsed": false
   },
   "outputs": [
    {
     "data": {
      "text/plain": [
       "array([ 0.        ,  1.        ,  1.41421356,  1.73205081,  2.        ,\n",
       "        2.23606798,  2.44948974,  2.64575131,  2.82842712,  3.        ,\n",
       "        3.16227766])"
      ]
     },
     "execution_count": 89,
     "metadata": {},
     "output_type": "execute_result"
    }
   ],
   "source": [
    "np.sqrt(arr)"
   ]
  },
  {
   "cell_type": "code",
   "execution_count": 90,
   "metadata": {
    "collapsed": false
   },
   "outputs": [
    {
     "data": {
      "text/plain": [
       "array([  1.00000000e+00,   2.71828183e+00,   7.38905610e+00,\n",
       "         2.00855369e+01,   5.45981500e+01,   1.48413159e+02,\n",
       "         4.03428793e+02,   1.09663316e+03,   2.98095799e+03,\n",
       "         8.10308393e+03,   2.20264658e+04])"
      ]
     },
     "execution_count": 90,
     "metadata": {},
     "output_type": "execute_result"
    }
   ],
   "source": [
    "np.exp(arr)"
   ]
  },
  {
   "cell_type": "markdown",
   "metadata": {},
   "source": [
    " ### Array Processing "
   ]
  },
  {
   "cell_type": "code",
   "execution_count": 91,
   "metadata": {
    "collapsed": true
   },
   "outputs": [],
   "source": [
    "import matplotlib.pyplot as plt"
   ]
  },
  {
   "cell_type": "code",
   "execution_count": 92,
   "metadata": {
    "collapsed": true
   },
   "outputs": [],
   "source": [
    "%matplotlib inline "
   ]
  },
  {
   "cell_type": "code",
   "execution_count": 108,
   "metadata": {
    "collapsed": false
   },
   "outputs": [],
   "source": [
    "point = np.arange(-15,15,0.01)"
   ]
  },
  {
   "cell_type": "code",
   "execution_count": 95,
   "metadata": {
    "collapsed": false
   },
   "outputs": [
    {
     "data": {
      "text/plain": [
       "array([ -1.00000000e+00,  -9.00000000e-01,  -8.00000000e-01,\n",
       "        -7.00000000e-01,  -6.00000000e-01,  -5.00000000e-01,\n",
       "        -4.00000000e-01,  -3.00000000e-01,  -2.00000000e-01,\n",
       "        -1.00000000e-01,  -2.22044605e-16,   1.00000000e-01,\n",
       "         2.00000000e-01,   3.00000000e-01,   4.00000000e-01,\n",
       "         5.00000000e-01,   6.00000000e-01,   7.00000000e-01,\n",
       "         8.00000000e-01,   9.00000000e-01])"
      ]
     },
     "execution_count": 95,
     "metadata": {},
     "output_type": "execute_result"
    }
   ],
   "source": [
    "point"
   ]
  },
  {
   "cell_type": "code",
   "execution_count": 109,
   "metadata": {
    "collapsed": true
   },
   "outputs": [],
   "source": [
    "dx, dy = np.meshgrid(point,point)"
   ]
  },
  {
   "cell_type": "code",
   "execution_count": 97,
   "metadata": {
    "collapsed": false
   },
   "outputs": [
    {
     "data": {
      "text/plain": [
       "array([[ -1.00000000e+00,  -9.00000000e-01,  -8.00000000e-01,\n",
       "         -7.00000000e-01,  -6.00000000e-01,  -5.00000000e-01,\n",
       "         -4.00000000e-01,  -3.00000000e-01,  -2.00000000e-01,\n",
       "         -1.00000000e-01,  -2.22044605e-16,   1.00000000e-01,\n",
       "          2.00000000e-01,   3.00000000e-01,   4.00000000e-01,\n",
       "          5.00000000e-01,   6.00000000e-01,   7.00000000e-01,\n",
       "          8.00000000e-01,   9.00000000e-01],\n",
       "       [ -1.00000000e+00,  -9.00000000e-01,  -8.00000000e-01,\n",
       "         -7.00000000e-01,  -6.00000000e-01,  -5.00000000e-01,\n",
       "         -4.00000000e-01,  -3.00000000e-01,  -2.00000000e-01,\n",
       "         -1.00000000e-01,  -2.22044605e-16,   1.00000000e-01,\n",
       "          2.00000000e-01,   3.00000000e-01,   4.00000000e-01,\n",
       "          5.00000000e-01,   6.00000000e-01,   7.00000000e-01,\n",
       "          8.00000000e-01,   9.00000000e-01],\n",
       "       [ -1.00000000e+00,  -9.00000000e-01,  -8.00000000e-01,\n",
       "         -7.00000000e-01,  -6.00000000e-01,  -5.00000000e-01,\n",
       "         -4.00000000e-01,  -3.00000000e-01,  -2.00000000e-01,\n",
       "         -1.00000000e-01,  -2.22044605e-16,   1.00000000e-01,\n",
       "          2.00000000e-01,   3.00000000e-01,   4.00000000e-01,\n",
       "          5.00000000e-01,   6.00000000e-01,   7.00000000e-01,\n",
       "          8.00000000e-01,   9.00000000e-01],\n",
       "       [ -1.00000000e+00,  -9.00000000e-01,  -8.00000000e-01,\n",
       "         -7.00000000e-01,  -6.00000000e-01,  -5.00000000e-01,\n",
       "         -4.00000000e-01,  -3.00000000e-01,  -2.00000000e-01,\n",
       "         -1.00000000e-01,  -2.22044605e-16,   1.00000000e-01,\n",
       "          2.00000000e-01,   3.00000000e-01,   4.00000000e-01,\n",
       "          5.00000000e-01,   6.00000000e-01,   7.00000000e-01,\n",
       "          8.00000000e-01,   9.00000000e-01],\n",
       "       [ -1.00000000e+00,  -9.00000000e-01,  -8.00000000e-01,\n",
       "         -7.00000000e-01,  -6.00000000e-01,  -5.00000000e-01,\n",
       "         -4.00000000e-01,  -3.00000000e-01,  -2.00000000e-01,\n",
       "         -1.00000000e-01,  -2.22044605e-16,   1.00000000e-01,\n",
       "          2.00000000e-01,   3.00000000e-01,   4.00000000e-01,\n",
       "          5.00000000e-01,   6.00000000e-01,   7.00000000e-01,\n",
       "          8.00000000e-01,   9.00000000e-01],\n",
       "       [ -1.00000000e+00,  -9.00000000e-01,  -8.00000000e-01,\n",
       "         -7.00000000e-01,  -6.00000000e-01,  -5.00000000e-01,\n",
       "         -4.00000000e-01,  -3.00000000e-01,  -2.00000000e-01,\n",
       "         -1.00000000e-01,  -2.22044605e-16,   1.00000000e-01,\n",
       "          2.00000000e-01,   3.00000000e-01,   4.00000000e-01,\n",
       "          5.00000000e-01,   6.00000000e-01,   7.00000000e-01,\n",
       "          8.00000000e-01,   9.00000000e-01],\n",
       "       [ -1.00000000e+00,  -9.00000000e-01,  -8.00000000e-01,\n",
       "         -7.00000000e-01,  -6.00000000e-01,  -5.00000000e-01,\n",
       "         -4.00000000e-01,  -3.00000000e-01,  -2.00000000e-01,\n",
       "         -1.00000000e-01,  -2.22044605e-16,   1.00000000e-01,\n",
       "          2.00000000e-01,   3.00000000e-01,   4.00000000e-01,\n",
       "          5.00000000e-01,   6.00000000e-01,   7.00000000e-01,\n",
       "          8.00000000e-01,   9.00000000e-01],\n",
       "       [ -1.00000000e+00,  -9.00000000e-01,  -8.00000000e-01,\n",
       "         -7.00000000e-01,  -6.00000000e-01,  -5.00000000e-01,\n",
       "         -4.00000000e-01,  -3.00000000e-01,  -2.00000000e-01,\n",
       "         -1.00000000e-01,  -2.22044605e-16,   1.00000000e-01,\n",
       "          2.00000000e-01,   3.00000000e-01,   4.00000000e-01,\n",
       "          5.00000000e-01,   6.00000000e-01,   7.00000000e-01,\n",
       "          8.00000000e-01,   9.00000000e-01],\n",
       "       [ -1.00000000e+00,  -9.00000000e-01,  -8.00000000e-01,\n",
       "         -7.00000000e-01,  -6.00000000e-01,  -5.00000000e-01,\n",
       "         -4.00000000e-01,  -3.00000000e-01,  -2.00000000e-01,\n",
       "         -1.00000000e-01,  -2.22044605e-16,   1.00000000e-01,\n",
       "          2.00000000e-01,   3.00000000e-01,   4.00000000e-01,\n",
       "          5.00000000e-01,   6.00000000e-01,   7.00000000e-01,\n",
       "          8.00000000e-01,   9.00000000e-01],\n",
       "       [ -1.00000000e+00,  -9.00000000e-01,  -8.00000000e-01,\n",
       "         -7.00000000e-01,  -6.00000000e-01,  -5.00000000e-01,\n",
       "         -4.00000000e-01,  -3.00000000e-01,  -2.00000000e-01,\n",
       "         -1.00000000e-01,  -2.22044605e-16,   1.00000000e-01,\n",
       "          2.00000000e-01,   3.00000000e-01,   4.00000000e-01,\n",
       "          5.00000000e-01,   6.00000000e-01,   7.00000000e-01,\n",
       "          8.00000000e-01,   9.00000000e-01],\n",
       "       [ -1.00000000e+00,  -9.00000000e-01,  -8.00000000e-01,\n",
       "         -7.00000000e-01,  -6.00000000e-01,  -5.00000000e-01,\n",
       "         -4.00000000e-01,  -3.00000000e-01,  -2.00000000e-01,\n",
       "         -1.00000000e-01,  -2.22044605e-16,   1.00000000e-01,\n",
       "          2.00000000e-01,   3.00000000e-01,   4.00000000e-01,\n",
       "          5.00000000e-01,   6.00000000e-01,   7.00000000e-01,\n",
       "          8.00000000e-01,   9.00000000e-01],\n",
       "       [ -1.00000000e+00,  -9.00000000e-01,  -8.00000000e-01,\n",
       "         -7.00000000e-01,  -6.00000000e-01,  -5.00000000e-01,\n",
       "         -4.00000000e-01,  -3.00000000e-01,  -2.00000000e-01,\n",
       "         -1.00000000e-01,  -2.22044605e-16,   1.00000000e-01,\n",
       "          2.00000000e-01,   3.00000000e-01,   4.00000000e-01,\n",
       "          5.00000000e-01,   6.00000000e-01,   7.00000000e-01,\n",
       "          8.00000000e-01,   9.00000000e-01],\n",
       "       [ -1.00000000e+00,  -9.00000000e-01,  -8.00000000e-01,\n",
       "         -7.00000000e-01,  -6.00000000e-01,  -5.00000000e-01,\n",
       "         -4.00000000e-01,  -3.00000000e-01,  -2.00000000e-01,\n",
       "         -1.00000000e-01,  -2.22044605e-16,   1.00000000e-01,\n",
       "          2.00000000e-01,   3.00000000e-01,   4.00000000e-01,\n",
       "          5.00000000e-01,   6.00000000e-01,   7.00000000e-01,\n",
       "          8.00000000e-01,   9.00000000e-01],\n",
       "       [ -1.00000000e+00,  -9.00000000e-01,  -8.00000000e-01,\n",
       "         -7.00000000e-01,  -6.00000000e-01,  -5.00000000e-01,\n",
       "         -4.00000000e-01,  -3.00000000e-01,  -2.00000000e-01,\n",
       "         -1.00000000e-01,  -2.22044605e-16,   1.00000000e-01,\n",
       "          2.00000000e-01,   3.00000000e-01,   4.00000000e-01,\n",
       "          5.00000000e-01,   6.00000000e-01,   7.00000000e-01,\n",
       "          8.00000000e-01,   9.00000000e-01],\n",
       "       [ -1.00000000e+00,  -9.00000000e-01,  -8.00000000e-01,\n",
       "         -7.00000000e-01,  -6.00000000e-01,  -5.00000000e-01,\n",
       "         -4.00000000e-01,  -3.00000000e-01,  -2.00000000e-01,\n",
       "         -1.00000000e-01,  -2.22044605e-16,   1.00000000e-01,\n",
       "          2.00000000e-01,   3.00000000e-01,   4.00000000e-01,\n",
       "          5.00000000e-01,   6.00000000e-01,   7.00000000e-01,\n",
       "          8.00000000e-01,   9.00000000e-01],\n",
       "       [ -1.00000000e+00,  -9.00000000e-01,  -8.00000000e-01,\n",
       "         -7.00000000e-01,  -6.00000000e-01,  -5.00000000e-01,\n",
       "         -4.00000000e-01,  -3.00000000e-01,  -2.00000000e-01,\n",
       "         -1.00000000e-01,  -2.22044605e-16,   1.00000000e-01,\n",
       "          2.00000000e-01,   3.00000000e-01,   4.00000000e-01,\n",
       "          5.00000000e-01,   6.00000000e-01,   7.00000000e-01,\n",
       "          8.00000000e-01,   9.00000000e-01],\n",
       "       [ -1.00000000e+00,  -9.00000000e-01,  -8.00000000e-01,\n",
       "         -7.00000000e-01,  -6.00000000e-01,  -5.00000000e-01,\n",
       "         -4.00000000e-01,  -3.00000000e-01,  -2.00000000e-01,\n",
       "         -1.00000000e-01,  -2.22044605e-16,   1.00000000e-01,\n",
       "          2.00000000e-01,   3.00000000e-01,   4.00000000e-01,\n",
       "          5.00000000e-01,   6.00000000e-01,   7.00000000e-01,\n",
       "          8.00000000e-01,   9.00000000e-01],\n",
       "       [ -1.00000000e+00,  -9.00000000e-01,  -8.00000000e-01,\n",
       "         -7.00000000e-01,  -6.00000000e-01,  -5.00000000e-01,\n",
       "         -4.00000000e-01,  -3.00000000e-01,  -2.00000000e-01,\n",
       "         -1.00000000e-01,  -2.22044605e-16,   1.00000000e-01,\n",
       "          2.00000000e-01,   3.00000000e-01,   4.00000000e-01,\n",
       "          5.00000000e-01,   6.00000000e-01,   7.00000000e-01,\n",
       "          8.00000000e-01,   9.00000000e-01],\n",
       "       [ -1.00000000e+00,  -9.00000000e-01,  -8.00000000e-01,\n",
       "         -7.00000000e-01,  -6.00000000e-01,  -5.00000000e-01,\n",
       "         -4.00000000e-01,  -3.00000000e-01,  -2.00000000e-01,\n",
       "         -1.00000000e-01,  -2.22044605e-16,   1.00000000e-01,\n",
       "          2.00000000e-01,   3.00000000e-01,   4.00000000e-01,\n",
       "          5.00000000e-01,   6.00000000e-01,   7.00000000e-01,\n",
       "          8.00000000e-01,   9.00000000e-01],\n",
       "       [ -1.00000000e+00,  -9.00000000e-01,  -8.00000000e-01,\n",
       "         -7.00000000e-01,  -6.00000000e-01,  -5.00000000e-01,\n",
       "         -4.00000000e-01,  -3.00000000e-01,  -2.00000000e-01,\n",
       "         -1.00000000e-01,  -2.22044605e-16,   1.00000000e-01,\n",
       "          2.00000000e-01,   3.00000000e-01,   4.00000000e-01,\n",
       "          5.00000000e-01,   6.00000000e-01,   7.00000000e-01,\n",
       "          8.00000000e-01,   9.00000000e-01]])"
      ]
     },
     "execution_count": 97,
     "metadata": {},
     "output_type": "execute_result"
    }
   ],
   "source": [
    "dx"
   ]
  },
  {
   "cell_type": "code",
   "execution_count": 110,
   "metadata": {
    "collapsed": true
   },
   "outputs": [],
   "source": [
    "z = (np.sin(dx) + np.sin(dy))"
   ]
  },
  {
   "cell_type": "code",
   "execution_count": 111,
   "metadata": {
    "collapsed": false
   },
   "outputs": [
    {
     "data": {
      "text/plain": [
       "<matplotlib.image.AxesImage at 0x8a6c630>"
      ]
     },
     "execution_count": 111,
     "metadata": {},
     "output_type": "execute_result"
    },
    {
     "data": {
      "image/png": "[encoded data removed]",
      "text/plain": [
       "<matplotlib.figure.Figure at 0x7d52d68>"
      ]
     },
     "metadata": {},
     "output_type": "display_data"
    }
   ],
   "source": [
    "plt.imshow(z)"
   ]
  },
  {
   "cell_type": "code",
   "execution_count": 124,
   "metadata": {
    "collapsed": true
   },
   "outputs": [],
   "source": [
    "arr1 = np.arange(-1,11)"
   ]
  },
  {
   "cell_type": "code",
   "execution_count": 125,
   "metadata": {
    "collapsed": true
   },
   "outputs": [],
   "source": [
    "arr2 = np.arange(-1,22,2)"
   ]
  },
  {
   "cell_type": "code",
   "execution_count": 126,
   "metadata": {
    "collapsed": false
   },
   "outputs": [
    {
     "data": {
      "text/plain": [
       "array([ 1,  1,  3,  5,  7,  9, 11, 13, 15, 17, 19, 21])"
      ]
     },
     "execution_count": 126,
     "metadata": {},
     "output_type": "execute_result"
    }
   ],
   "source": [
    "np.where(arr1 == arr2, True, arr2)"
   ]
  },
  {
   "cell_type": "code",
   "execution_count": 128,
   "metadata": {
    "collapsed": false
   },
   "outputs": [
    {
     "data": {
      "text/plain": [
       "120"
      ]
     },
     "execution_count": 128,
     "metadata": {},
     "output_type": "execute_result"
    }
   ],
   "source": [
    "arr2.sum()"
   ]
  },
  {
   "cell_type": "code",
   "execution_count": 129,
   "metadata": {
    "collapsed": true
   },
   "outputs": [],
   "source": [
    "country = ['Bn', 'In','USA','UAE','Bn']"
   ]
  },
  {
   "cell_type": "code",
   "execution_count": 130,
   "metadata": {
    "collapsed": false
   },
   "outputs": [
    {
     "data": {
      "text/plain": [
       "array(['Bn', 'In', 'UAE', 'USA'], \n",
       "      dtype='|S3')"
      ]
     },
     "execution_count": 130,
     "metadata": {},
     "output_type": "execute_result"
    }
   ],
   "source": [
    "np.unique(country)"
   ]
  },
  {
   "cell_type": "code",
   "execution_count": 131,
   "metadata": {
    "collapsed": false
   },
   "outputs": [
    {
     "data": {
      "text/plain": [
       "array([ True,  True, False, False], dtype=bool)"
      ]
     },
     "execution_count": 131,
     "metadata": {},
     "output_type": "execute_result"
    }
   ],
   "source": [
    "np.in1d(['Bn', 'In','UK','Pak'],country)"
   ]
  },
  {
   "cell_type": "markdown",
   "metadata": {},
   "source": [
    "## Numpy Udacity"
   ]
  },
  {
   "cell_type": "code",
   "execution_count": 133,
   "metadata": {
    "collapsed": true
   },
   "outputs": [],
   "source": [
    "number = np.arange(1,6)"
   ]
  },
  {
   "cell_type": "code",
   "execution_count": 134,
   "metadata": {
    "collapsed": false
   },
   "outputs": [
    {
     "data": {
      "text/plain": [
       "3.0"
      ]
     },
     "execution_count": 134,
     "metadata": {},
     "output_type": "execute_result"
    }
   ],
   "source": [
    "np.mean(number)"
   ]
  },
  {
   "cell_type": "code",
   "execution_count": 135,
   "metadata": {
    "collapsed": false
   },
   "outputs": [
    {
     "data": {
      "text/plain": [
       "3.0"
      ]
     },
     "execution_count": 135,
     "metadata": {},
     "output_type": "execute_result"
    }
   ],
   "source": [
    "np.median(number)"
   ]
  },
  {
   "cell_type": "code",
   "execution_count": 137,
   "metadata": {
    "collapsed": false
   },
   "outputs": [
    {
     "data": {
      "text/plain": [
       "1.4142135623730951"
      ]
     },
     "execution_count": 137,
     "metadata": {},
     "output_type": "execute_result"
    }
   ],
   "source": [
    "np.std(number)"
   ]
  },
  {
   "cell_type": "code",
   "execution_count": 138,
   "metadata": {
    "collapsed": false
   },
   "outputs": [
    {
     "data": {
      "text/plain": [
       "2.0"
      ]
     },
     "execution_count": 138,
     "metadata": {},
     "output_type": "execute_result"
    }
   ],
   "source": [
    "np.var(number)"
   ]
  },
  {
   "cell_type": "markdown",
   "metadata": {},
   "source": [
    "'''\n",
    "The array object class is the foundation of Numpy, and Numpy arrays are like\n",
    "lists in Python, except that every thing inside an array must be of the\n",
    "same type, like int or float.\n",
    "'''"
   ]
  },
  {
   "cell_type": "code",
   "execution_count": 139,
   "metadata": {
    "collapsed": false
   },
   "outputs": [
    {
     "name": "stdout",
     "output_type": "stream",
     "text": [
      "[ 1.  4.  5.  8.]\n",
      "\n",
      "[[ 1.  2.  3.]\n",
      " [ 4.  5.  6.]]\n"
     ]
    }
   ],
   "source": [
    "if True:\n",
    "    array = np.array([1, 4, 5, 8], float)\n",
    "    print array\n",
    "    print \"\"\n",
    "    array = np.array([[1, 2, 3], [4, 5, 6]], float)  # a 2D array/Matrix\n",
    "    print array"
   ]
  },
  {
   "cell_type": "markdown",
   "metadata": {},
   "source": [
    "\n",
    "'''\n",
    "You can index, slice, and manipulate a Numpy array much like you would with a\n",
    "a Python list.\n",
    "'''"
   ]
  },
  {
   "cell_type": "code",
   "execution_count": 141,
   "metadata": {
    "collapsed": false
   },
   "outputs": [
    {
     "name": "stdout",
     "output_type": "stream",
     "text": [
      "[ 1.  4.  5.  8.]\n",
      "\n",
      "4.0\n",
      "\n",
      "[ 1.  4.]\n",
      "\n",
      "5.0\n"
     ]
    }
   ],
   "source": [
    "if True:\n",
    "    array = np.array([1, 4, 5, 8], float)\n",
    "    print array\n",
    "    print \"\"\n",
    "    print array[1]\n",
    "    print \"\"\n",
    "    print array[:2]\n",
    "    print \"\"\n",
    "    array[1] = 5.0\n",
    "    print array[1]"
   ]
  },
  {
   "cell_type": "code",
   "execution_count": 142,
   "metadata": {
    "collapsed": false
   },
   "outputs": [
    {
     "name": "stdout",
     "output_type": "stream",
     "text": [
      "[[ 1.  2.  3.]\n",
      " [ 4.  5.  6.]]\n",
      "\n",
      "5.0\n",
      "\n",
      "[ 4.  5.  6.]\n",
      "\n",
      "[ 3.  6.]\n"
     ]
    }
   ],
   "source": [
    "if True:\n",
    "    two_D_array = np.array([[1, 2, 3], [4, 5, 6]], float)\n",
    "    print two_D_array\n",
    "    print \"\"\n",
    "    print two_D_array[1][1]\n",
    "    print \"\"\n",
    "    print two_D_array[1, :]\n",
    "    print \"\"\n",
    "    print two_D_array[:, 2]"
   ]
  },
  {
   "cell_type": "markdown",
   "metadata": {},
   "source": [
    "'''\n",
    "Here are some arithmetic operations that you can do with Numpy arrays\n",
    "'''"
   ]
  },
  {
   "cell_type": "code",
   "execution_count": 143,
   "metadata": {
    "collapsed": false
   },
   "outputs": [
    {
     "name": "stdout",
     "output_type": "stream",
     "text": [
      "[[  6.   8.]\n",
      " [ 10.  12.]]\n",
      "\n",
      "[[-4. -4.]\n",
      " [-4. -4.]]\n",
      "\n",
      "[[  5.  12.]\n",
      " [ 21.  32.]]\n"
     ]
    }
   ],
   "source": [
    "if True:\n",
    "    array_1 = np.array([[1, 2], [3, 4]], float)\n",
    "    array_2 = np.array([[5, 6], [7, 8]], float)\n",
    "    print array_1 + array_2\n",
    "    print \"\"\n",
    "    print array_1 - array_2\n",
    "    print \"\"\n",
    "    print array_1 * array_2"
   ]
  },
  {
   "cell_type": "markdown",
   "metadata": {},
   "source": [
    "'''\n",
    "In addition to the standard arthimetic operations, Numpy also has a range of\n",
    "other mathematical operations that you can apply to Numpy arrays, such as\n",
    "mean and dot product.\n",
    "\n",
    "Both of these functions will be useful in later programming quizzes.\n",
    "'''"
   ]
  },
  {
   "cell_type": "code",
   "execution_count": 144,
   "metadata": {
    "collapsed": false
   },
   "outputs": [
    {
     "name": "stdout",
     "output_type": "stream",
     "text": [
      "2.0\n",
      "7.0\n",
      "\n",
      "[ 44.]\n"
     ]
    }
   ],
   "source": [
    "if True:\n",
    "    array_1 = np.array([1, 2, 3], float)\n",
    "    array_2 = np.array([[6], [7], [8]], float)\n",
    "    print np.mean(array_1)\n",
    "    print np.mean(array_2)\n",
    "    print \"\"\n",
    "    print np.dot(array_1, array_2)"
   ]
  },
  {
   "cell_type": "code",
   "execution_count": null,
   "metadata": {
    "collapsed": true
   },
   "outputs": [],
   "source": []
  }
 ],
 "metadata": {
  "kernelspec": {
   "display_name": "Python 2",
   "language": "python",
   "name": "python2"
  },
  "language_info": {
   "codemirror_mode": {
    "name": "ipython",
    "version": 2
   },
   "file_extension": ".py",
   "mimetype": "text/x-python",
   "name": "python",
   "nbconvert_exporter": "python",
   "pygments_lexer": "ipython2",
   "version": "2.7.13"
  }
 },
 "nbformat": 4,
 "nbformat_minor": 2
}
